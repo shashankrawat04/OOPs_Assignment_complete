{
 "cells": [
  {
   "cell_type": "markdown",
   "id": "f4aae386-bec1-4097-8675-f9c660b46c0a",
   "metadata": {},
   "source": [
    "## CONSTRUCTOR:"
   ]
  },
  {
   "cell_type": "markdown",
   "id": "dc406929-f530-484b-9ee7-1fb8916f23dd",
   "metadata": {},
   "source": [
    "1. What is a constructor in Python? Explain its purpose and usage.\n",
    "\n",
    "\n",
    "2. Differentiate between a parameterless constructor and a parameterized constructor in Python.\n",
    "\n",
    "\n",
    "3. How do you define a constructor in a Python class? Provide an example.\n",
    "\n",
    "\n",
    "4. Explain the `__init__` method in Python and its role in constructors.\n",
    "\n",
    "\n",
    "5. In a class named `Person`, create a constructor that initializes the `name` and `age` attributes. Provide an\n",
    "example of creating an object of this class.\n",
    "\n",
    "\n",
    "6. How can you call a constructor explicitly in Python? Give an example.\n",
    "\n",
    "\n",
    "7. What is the significance of the `self` parameter in Python constructors? Explain with an example.\n",
    "\n",
    "\n",
    "8. Discuss the concept of default constructors in Python. When are they used?\n",
    "\n",
    "\n",
    "9. Create a Python class called `Rectangle` with a constructor that initializes the `width` and `height`\n",
    "attributes. Provide a method to calculate the area of the rectangle.\n",
    "\n",
    "\n",
    "10. How can you have multiple constructors in a Python class? Explain with an example.\n",
    "\n",
    "11. What is method overloading, and how is it related to constructors in Python?\n",
    "\n",
    "\n",
    "12. Explain the use of the `super()` function in Python constructors. Provide an example.\n",
    "\n",
    "\n",
    "13. Create a class called `Book` with a constructor that initializes the `title`, `author`, and `published_year`\n",
    "attributes. Provide a method to display book details.\n",
    "\n",
    "\n",
    "14. Discuss the differences between constructors and regular methods in Python classes.\n",
    "\n",
    "\n",
    "15. Explain the role of the `self` parameter in instance variable initialization within a constructor.\n",
    "\n",
    "\n",
    "16. How do you prevent a class from having multiple instances by using constructors in Python? Provide an\n",
    "example.\n",
    "\n",
    "\n",
    "17. Create a Python class called `Student` with a constructor that takes a list of subjects as a parameter and\n",
    "initializes the `subjects` attribute.\n",
    "\n",
    "\n",
    "18. What is the purpose of the `__del__` method in Python classes, and how does it relate to constructors?\n",
    "\n",
    "\n",
    "19. Explain the use of constructor chaining in Python. Provide a practical example.How do you prevent a class from having multiple instances by using constructors in Python? Provide an example.\n",
    "\n",
    "\n",
    "20. Create a Python class called `Car` with a default constructor that initializes the `make` and `model`\n",
    "attributes. Provide a method to display car information."
   ]
  },
  {
   "cell_type": "markdown",
   "id": "f59a7ec2-ab59-468b-861d-bdb52b12286d",
   "metadata": {},
   "source": [
    "----------------------------------------------------------------------------------------------------------------------------------------------"
   ]
  },
  {
   "cell_type": "markdown",
   "id": "6fa5d800-213d-4df8-bc68-0cd1279153e1",
   "metadata": {},
   "source": [
    "#1 Constructors are generally used for instantiating an object. The task of constructors is to initialize(assign values) to the data members of the class when an object of the class is created. In Python the __init__() method is called the constructor and is always called when an object is created."
   ]
  },
  {
   "cell_type": "markdown",
   "id": "1cc89661-ff80-4cb0-9768-ca86a8922dd0",
   "metadata": {},
   "source": [
    "#2 There are two types of constructor:\n",
    "1. Parameterless Constructor: In this there are no parameter present only the self keyword is there or this does not accept any argument.\n",
    "\n",
    "class Shashank:\n",
    "\n",
    "      def __init__(self):\n",
    "      \n",
    "         # body of the constructor\n",
    "         \n",
    "2. Parameterized Constructor: It accept the argument from the object to the data member from the programmer or the user. \n",
    "\n",
    "class Shashank:\n",
    "\n",
    "      def __init__(self, name):\n",
    "      \n",
    "          # body of the constructor"
   ]
  },
  {
   "cell_type": "code",
   "execution_count": null,
   "id": "cab5caba-fe97-4af3-bb28-6f4d839eb310",
   "metadata": {},
   "outputs": [],
   "source": [
    "#3 \n",
    "class Shashank:\n",
    "    def __init__(self, surname): #Constructor\n",
    "        self.surname = surname\n",
    "    def print_name(self):\n",
    "        print(self.surname)"
   ]
  },
  {
   "cell_type": "code",
   "execution_count": null,
   "id": "0b8b1459-af25-415a-876d-c7ea6efc576f",
   "metadata": {},
   "outputs": [],
   "source": [
    "obj1 = Shashank(\"Rawat\")\n",
    "obj1.print_name()"
   ]
  },
  {
   "cell_type": "markdown",
   "id": "93eb7c5f-eaa1-4c1f-9073-578395e8ab16",
   "metadata": {},
   "source": [
    "#4  __init__ is a dundar function in python which behaves like a constructor for a class. __init__ assign the values to the members of the class. "
   ]
  },
  {
   "cell_type": "code",
   "execution_count": null,
   "id": "5488cff4-66a6-490a-9c03-8a18e10b833a",
   "metadata": {},
   "outputs": [],
   "source": [
    "#5 \n",
    "class Person:\n",
    "    def __init__(self, name, age):\n",
    "        self.name = name\n",
    "        self.age = age\n",
    "    def Print_details(self):\n",
    "        print(self.name, self.age)"
   ]
  },
  {
   "cell_type": "code",
   "execution_count": null,
   "id": "a3bb2770-31cb-455a-825b-81b044b16263",
   "metadata": {},
   "outputs": [],
   "source": [
    "Person1 = Person(\"Shashank\", 24)"
   ]
  },
  {
   "cell_type": "code",
   "execution_count": null,
   "id": "5ee332d5-1198-4713-822d-c53bafde87c5",
   "metadata": {},
   "outputs": [],
   "source": [
    "Person1.Print_details()"
   ]
  },
  {
   "cell_type": "code",
   "execution_count": null,
   "id": "b93a205e-50b8-496f-bb49-413acc08b4d2",
   "metadata": {},
   "outputs": [],
   "source": []
  },
  {
   "cell_type": "markdown",
   "id": "7c3b54cf-e8e9-4db6-b296-6833f33134ab",
   "metadata": {},
   "source": [
    "#7 Self is not a keyword in python we use it to tell that that the particular function belongs to that class."
   ]
  },
  {
   "cell_type": "code",
   "execution_count": null,
   "id": "6fde4348-ef0d-4b9d-8601-8c79ab58d70d",
   "metadata": {},
   "outputs": [],
   "source": [
    "#8 Default constructor is also known as Parameterless Constructor. It does not accept any values from the member of the class.\n",
    "class Car:\n",
    "    def __init__(self):\n",
    "        self.name = \"AUDI\"\n",
    "    def print_name(self):\n",
    "        print(self.name)"
   ]
  },
  {
   "cell_type": "code",
   "execution_count": null,
   "id": "5eb08782-c90e-4c77-a502-97cff7567c91",
   "metadata": {},
   "outputs": [],
   "source": [
    "car_name = Car()\n",
    "car_name.print_name()"
   ]
  },
  {
   "cell_type": "code",
   "execution_count": null,
   "id": "b394dfe9-1b39-453b-acec-c6fdc7234a90",
   "metadata": {},
   "outputs": [],
   "source": [
    "#9 \n",
    "class Rectangle:\n",
    "    def __init__(self, width, height):\n",
    "        self.width = width\n",
    "        self.height = height\n",
    "    def area(self):\n",
    "        area_rect = self.width * self.height\n",
    "        print(area_rect)"
   ]
  },
  {
   "cell_type": "code",
   "execution_count": null,
   "id": "c865daa0-9128-48ed-9800-cf5dcf72c0e6",
   "metadata": {},
   "outputs": [],
   "source": [
    "Rectangle1 = Rectangle(12, 12)\n",
    "Rectangle1.area()"
   ]
  },
  {
   "cell_type": "markdown",
   "id": "ffe4ab2d-e1b8-4cf0-900f-dcdeaf6fe371",
   "metadata": {},
   "source": [
    "#10 We cannot achieve multiple constructor in python, unlike in JAVA and C++"
   ]
  },
  {
   "cell_type": "code",
   "execution_count": null,
   "id": "6f228aeb-7798-483c-90d7-e4e58fb1633c",
   "metadata": {},
   "outputs": [],
   "source": [
    "#11 When two or more methods have same name but different parameters.\n",
    "\n",
    "def student(self, name, surname):\n",
    "    print(self.name, self.surname)\n",
    "def student(self, name, surname, rollno):\n",
    "    print(self.name, self.surname, self.rollno)"
   ]
  },
  {
   "cell_type": "code",
   "execution_count": null,
   "id": "572f144c-6418-46da-b180-765ed7012379",
   "metadata": {},
   "outputs": [],
   "source": [
    "#12\n",
    "class Animal:\n",
    "    def __init__(self, name):\n",
    "        self.name = name \n",
    "    def print_name(self):\n",
    "        print(f\"{self.name} can smell\")\n",
    "class Dog(Animal):\n",
    "    def __init__(self):\n",
    "        super().s"
   ]
  },
  {
   "cell_type": "code",
   "execution_count": null,
   "id": "ba96ac31-f772-453c-9773-498bd439d8bb",
   "metadata": {},
   "outputs": [],
   "source": [
    "#13\n",
    "class Book:\n",
    "    def __init__(self, title, author, published_year):\n",
    "        self.title = title \n",
    "        self.author = author\n",
    "        self.published_year = published_year\n",
    "    def Book_details(self):\n",
    "        print(self.title, self.author, self.published_year)"
   ]
  },
  {
   "cell_type": "code",
   "execution_count": null,
   "id": "45e2f098-9e1e-43a3-b939-1ed3e26c4fe5",
   "metadata": {},
   "outputs": [],
   "source": [
    "obj1 = Book(\"HOOKED\", \"Neil\", 2020)\n",
    "obj1.Book_details()"
   ]
  },
  {
   "cell_type": "markdown",
   "id": "e66b943d-a12d-40f9-b1df-61018c702cec",
   "metadata": {},
   "source": [
    "#14\n",
    "\n",
    "Constructor = It assign the values to the member of the class method. They are called automatically when the instance of the class is created.\n",
    "\n",
    "Methods = They are like any other function but having a self keyword in it and are not called automatically when instance of the class is created."
   ]
  },
  {
   "cell_type": "code",
   "execution_count": null,
   "id": "f9ee7fb8-f58f-41cc-bb7a-80ed905ed16c",
   "metadata": {},
   "outputs": [],
   "source": [
    "#15 Self parameter refer to the current instance of the class and used to access variables that belongs to the particular class.\n"
   ]
  },
  {
   "cell_type": "code",
   "execution_count": null,
   "id": "e71f633f-b347-4ae2-8789-494f77d432be",
   "metadata": {},
   "outputs": [],
   "source": [
    "#16"
   ]
  },
  {
   "cell_type": "code",
   "execution_count": null,
   "id": "1d65d162-21b7-468a-8dd9-bb32d7aa0224",
   "metadata": {},
   "outputs": [],
   "source": [
    "#17\n",
    "class Student:\n",
    "    def __init__(self, subjects):\n",
    "        self.subjects = subjects\n",
    "    def print_subjects(self):\n",
    "        print(self.subjects)"
   ]
  },
  {
   "cell_type": "code",
   "execution_count": null,
   "id": "9db50d38-0b19-457c-9b22-b8f89df86ab6",
   "metadata": {},
   "outputs": [],
   "source": [
    "Student1 = Student([\"Chemistry\", \"Math\", \"Physics\"])\n",
    "Student1.print_subjects()"
   ]
  },
  {
   "cell_type": "code",
   "execution_count": null,
   "id": "7db5b540-8db0-4b4c-acbb-ab044b086acb",
   "metadata": {},
   "outputs": [],
   "source": [
    "#18 __del__ is a dundar function which is also known as destructor in python. It is called automatically when the class is initialized.\n",
    "import time \n",
    "class Time:\n",
    "    def __init__(self):\n",
    "        self.start_time = time.time()\n",
    "    def task(self):\n",
    "        time_spent = time.time() -  self.start_time\n",
    "        print(time_spent)        \n",
    "    def __del__(self):\n",
    "        print(\"task is deleted\")\n"
   ]
  },
  {
   "cell_type": "code",
   "execution_count": null,
   "id": "578d919d-554f-4874-b1ee-9ff7b74d9c4a",
   "metadata": {},
   "outputs": [],
   "source": [
    "time_calculate = Time()\n",
    "time_calculate.task()"
   ]
  },
  {
   "cell_type": "code",
   "execution_count": null,
   "id": "9ffc2a68-e351-4b4a-8f32-8e105058a456",
   "metadata": {},
   "outputs": [],
   "source": [
    "#19 Constructor chaining in python is calling one constructor calling another constructor of same class or superclass.\n",
    "class Animal:\n",
    "    def __init__(self, name):\n",
    "        self.name = name\n",
    "class Dog(Animal):\n",
    "    def __init__(self, name, Breed):\n",
    "        self.name = name \n",
    "        self.Breed = Breed \n",
    "obj1 = Dog(\"Bruno\", \"GSD\")\n"
   ]
  },
  {
   "cell_type": "code",
   "execution_count": null,
   "id": "14c5709f-e1b7-4a9a-bc0f-c79c6cf57b3c",
   "metadata": {},
   "outputs": [],
   "source": [
    "#20 Create a Python class called Car with a default constructor that initializes the make and model attributes. Provide a method to display car information.\n",
    "class Car:\n",
    "    def __init__(self, make, model):\n",
    "        self.make = make\n",
    "        self.model = model\n",
    "    def car_info(self):\n",
    "        print(f\"{self.make} make {self.model}\")"
   ]
  },
  {
   "cell_type": "code",
   "execution_count": null,
   "id": "2013c9d0-e732-4294-affb-3a96b300e9ba",
   "metadata": {},
   "outputs": [],
   "source": [
    "obj1 = Car(\"Toyota\", \"Fortuner\")\n",
    "obj1.car_info()"
   ]
  },
  {
   "cell_type": "markdown",
   "id": "08346b98-1278-47d0-a4a6-1863d30303db",
   "metadata": {},
   "source": [
    "-----------------------------------------------------------------------------------------------------------------------------------------------------------------------------------------"
   ]
  },
  {
   "cell_type": "markdown",
   "id": "45404e3e-3be3-4e34-a371-ba47fbb414d0",
   "metadata": {},
   "source": [
    "## Inheritance:\n",
    "\n",
    "1. What is inheritance in Python? Explain its significance in object-oriented programming.\n",
    "\n",
    "\n",
    "2. Differentiate between single inheritance and multiple inheritance in Python. Provide examples for each.\n",
    "\n",
    "\n",
    "3. Create a Python class called `Vehicle` with attributes `color` and `speed`. Then, create a child class called\n",
    "`Car` that inherits from `Vehicle` and adds a `brand` attribute. Provide an example of creating a `Car` object.\n",
    "\n",
    "\n",
    "4. Explain the concept of method overriding in inheritance. Provide a practical example.\n",
    "\n",
    "\n",
    "5. How can you access the methods and attributes of a parent class from a child class in Python? Give an\n",
    "example.\n",
    "\n",
    "\n",
    "6. Discuss the use of the `super()` function in Python inheritance. When and why is it used? Provide an\n",
    "example.\n",
    "\n",
    "\n",
    "7. Create a Python class called `Animal` with a method `speak()`. Then, create child classes `Dog` and `Cat`\n",
    "that inherit from `Animal` and override the `speak()` method. Provide an example of using these classes.\n",
    "\n",
    "\n",
    "8. Explain the role of the `isinstance()` function in Python and how it relates to inheritance.\n",
    "\n",
    "\n",
    "9. What is the purpose of the `issubclass()` function in Python? Provide an example.\n",
    "\n",
    "\n",
    "10. Discuss the concept of constructor inheritance in Python. How are constructors inherited in child classes?\n",
    "\n",
    "\n",
    "11. Create a Python class called `Shape` with a method `area()` that calculates the area of a shape. Then,\n",
    "create child classes `Circle` and `Rectangle` that inherit from `Shape` and implement the `area()` method\n",
    "accordingly. Provide an example.\n",
    "\n",
    "\n",
    "12. Explain the use of abstract base classes (ABCs) in Python and how they relate to inheritance. Provide an\n",
    "example using the `abc` module.\n",
    "\n",
    "\n",
    "13. How can you prevent a child class from modifying certain attributes or methods inherited from a parent\n",
    "class in Python?\n",
    "\n",
    "\n",
    "14. Create a Python class called `Employee` with attributes `name` and `salary`. Then, create a child class\n",
    "`Manager` that inherits from `Employee` and adds an attribute `department`. Provide an example.\n",
    "\n",
    "\n",
    "15. Discuss the concept of method overloading in Python inheritance. How does it differ from method\n",
    "overriding?\n",
    "\n",
    "\n",
    "16. Explain the purpose of the `__init__()` method in Python inheritance and how it is utilized in child classes.\n",
    "\n",
    "\n",
    "17. Create a Python class called `Bird` with a method `fly()`. Then, create child classes `Eagle` and `Sparrow`\n",
    "that inherit from `Bird` and implement the `fly()` method differently. Provide an example of using these\n",
    "classes.\n",
    "\n",
    "\n",
    "18. What is the \"diamond problem\" in multiple inheritance, and how does Python address it?\n",
    "\n",
    "\n",
    "19. Discuss the concept of \"is-a\" and \"has-a\" relationships in inheritance, and provide examples of each.\n",
    "\n",
    "\n",
    "20. Create a Python class hierarchy for a university system. Start with a base class `Person` and create child\n",
    "classes `Student` and `Professor`, each with their own attributes and methods. Provide an example of using\n",
    "these classes in a university context."
   ]
  },
  {
   "cell_type": "code",
   "execution_count": null,
   "id": "307f1fda-995e-4c16-a830-ec2f5131fd5f",
   "metadata": {},
   "outputs": [],
   "source": [
    "\"\"\"Question 1. When a class inherit its properties from another class it is known as inheritance. \n",
    "\n",
    "It allows us to create hierarchy of the classes that share set of properties.\n",
    "\n",
    "Class BaseClass:\n",
    "\n",
    "    {Body}\n",
    "    \n",
    "Class DerivedClass(BaseClass):\n",
    "    \n",
    "    {Body}\"\"\""
   ]
  },
  {
   "cell_type": "markdown",
   "id": "b66f50c1-e652-4248-a58e-e98ff46a11e3",
   "metadata": {},
   "source": [
    "Question 2. Single inheritance means when one class inherit properties of another class.\n",
    "\n",
    "Class BaseClass:\n",
    "\n",
    "    {Body}\n",
    "    \n",
    "Class DerivedClass(BaseClass):\n",
    "    \n",
    "    {Body}\n",
    "  \n",
    "2. Multiple inheritance means when properties of one class is inherited by the more than one class or one class inherit properties of another class.\n",
    "class BaseClass:\n",
    "\n",
    "    {Body}\n",
    "    \n",
    "class DerivedClass(BaseClass):\n",
    "    \n",
    "    {Body}\n",
    "\n",
    "class DerivedClass2(DerivedClass):\n",
    "     \n",
    "    {Body}"
   ]
  },
  {
   "cell_type": "code",
   "execution_count": null,
   "id": "e1b8e481-0e24-45c2-a530-583f0bfd4c11",
   "metadata": {},
   "outputs": [],
   "source": [
    "\"\"\" Question 3. Create a Python class called Vehicle with attributes color and speed. \n",
    "Then, create a child class called Car that inherits from Vehicle and adds a brand attribute. Provide an example of creating a Car object.\"\"\"\n",
    "\n",
    "class Vehicle:\n",
    "    def __init__(self, color, speed):\n",
    "        self.color = color\n",
    "        self.speed = speed \n",
    "    def print_details(self):\n",
    "        print(\"Red\", 120)\n",
    "class Car(Vehicle):\n",
    "    def __init__(self, brand):\n",
    "        self.brand = brand\n",
    "\n"
   ]
  },
  {
   "cell_type": "code",
   "execution_count": null,
   "id": "3096eba1-2e46-4e97-84b3-d39f4087ebbf",
   "metadata": {},
   "outputs": [],
   "source": [
    "obj1 = Car(\"BMW\")\n",
    "obj1.print_details()"
   ]
  },
  {
   "cell_type": "code",
   "execution_count": null,
   "id": "60333808-4b4d-4960-b428-c31d0f266518",
   "metadata": {},
   "outputs": [],
   "source": [
    "#4 Explain the concept of method overriding in inheritance. Provide a practical example. \n",
    "#Answer when the method in child class have same name as in parent class is known as method overriding.\n",
    "class Vehicle:\n",
    "    def __init__(self, color, speed):\n",
    "        self.color = color\n",
    "        self.speed = speed \n",
    "    def print_details(self):\n",
    "        print(\"Red\", 120)\n",
    "class Car(Vehicle):\n",
    "    def __init__(self, brand):\n",
    "        self.brand = brand\n",
    "    def print_details(self):\n",
    "        print(\"white\", 120)"
   ]
  },
  {
   "cell_type": "code",
   "execution_count": null,
   "id": "295b2315-f8cc-44db-b4ac-41d63d56420c",
   "metadata": {},
   "outputs": [],
   "source": [
    "#5 \n",
    "class Vehicle:\n",
    "    def __init__(self, color, speed):\n",
    "        self.color = color\n",
    "        self.speed = speed \n",
    "    def print_details(self):\n",
    "        print(\"Red\", 120)\n",
    "class Car(Vehicle):\n",
    "    def __init__(self, brand):\n",
    "        self.brand = brand"
   ]
  },
  {
   "cell_type": "code",
   "execution_count": null,
   "id": "a0383a90-21ce-4ecb-a1ce-a81b47ab7830",
   "metadata": {},
   "outputs": [],
   "source": [
    "honda = Car(\"Honda\")\n",
    "honda.print_details()"
   ]
  },
  {
   "cell_type": "code",
   "execution_count": null,
   "id": "6f6408fd-508f-449f-9c79-d690eaca3faf",
   "metadata": {},
   "outputs": [],
   "source": [
    "\"\"\"6 Discuss the use of the super() function in Python inheritance. When and why is it used? Provide an example.\"\"\"\n",
    "#Answer 6. it help to call method define into parent class from the child/subclass enabling you to customize the functionality of the inherit class.\n",
    "class Vehicle:\n",
    "    def __init__(self, color, speed):\n",
    "        self.color = color\n",
    "        self.speed = speed \n",
    "    def print_details(self):\n",
    "        print(\"Red\", 120)\n",
    "class Car(Vehicle):\n",
    "    def __init__(self, brand,color, speed):\n",
    "        super().__init__(color, speed)\n",
    "    def print_details(self):\n",
    "        super().print_details()"
   ]
  },
  {
   "cell_type": "code",
   "execution_count": null,
   "id": "371cd881-49fd-4e57-a3e3-798f5066757b",
   "metadata": {},
   "outputs": [],
   "source": [
    "honda = Car(\"TATA\", \"RED\", 120)\n",
    "honda.print_details()"
   ]
  },
  {
   "cell_type": "code",
   "execution_count": null,
   "id": "6f99597c-defc-442c-a81b-37aa02056942",
   "metadata": {},
   "outputs": [],
   "source": [
    "\"\"\" Question 7 Create a Python class called Animal with a method speak(). \n",
    "    Then, create child classes Dog and Cat that inherit from Animal \n",
    "    and override the speak() method. Provide an example of using these classes. \"\"\"\n",
    "class Animal:\n",
    "    def speak(self):\n",
    "        pass\n",
    "\n",
    "class Dog(Animal):\n",
    "    def __init__(self, name):\n",
    "        self.name = name\n",
    "    def speak(self):\n",
    "        return f\"{self.name} is barking\"\n",
    "        \n",
    "class Cat(Animal):\n",
    "    def __init__(self, name):\n",
    "        self.name = name\n",
    "    def speak(self):\n",
    "        return f\"{self.name} is roaring\""
   ]
  },
  {
   "cell_type": "code",
   "execution_count": null,
   "id": "b753558c-bf17-498a-9e5a-0f170ebef66b",
   "metadata": {},
   "outputs": [],
   "source": [
    "Bruno = Dog(\"bruno\")\n",
    "Bruno.speak()"
   ]
  },
  {
   "cell_type": "code",
   "execution_count": null,
   "id": "b2a1d02d-a708-4204-a0ae-a229683895f9",
   "metadata": {},
   "outputs": [],
   "source": [
    "Tom = Cat(\"tom\")\n",
    "Tom.speak()"
   ]
  },
  {
   "cell_type": "code",
   "execution_count": null,
   "id": "bf3691e5-0016-4d9c-b72b-d4b6b2be389d",
   "metadata": {},
   "outputs": [],
   "source": [
    "\"\"\"Question 8. Explain the role of the `isinstance()` function in Python and how it relates to inheritance\"\"\"\n",
    "\n",
    "\"\"\" Answer 8. Python 'isinstance' function checks whether the object or variable is an instance of the class type or data type\"\"\""
   ]
  },
  {
   "cell_type": "code",
   "execution_count": null,
   "id": "5f73c0c4-7a1c-4cd3-bf8e-800c837062e6",
   "metadata": {},
   "outputs": [],
   "source": [
    "\"\"\" Question 9. What is the purpose of the issubclass() function in Python? Provide an example.\"\"\"\n",
    "\"\"\" Answer 9. The purpose of issubclass() function is to check whether the given class is the function of the parent class or not\"\"\""
   ]
  },
  {
   "cell_type": "code",
   "execution_count": null,
   "id": "34695676-72bc-4d14-9912-a77746317d48",
   "metadata": {},
   "outputs": [],
   "source": [
    "\"\"\" Question 10. Discuss the concept of constructor inheritance in Python. How are constructors inherited in child classes?\"\"\"\n",
    "class Game:\n",
    "    def __init__(self, game):\n",
    "        self.game = game \n",
    "    def print_game(self):\n",
    "        print(self.game)\n",
    "class Cricket(Game):\n",
    "    def __init__(self, game, player):\n",
    "        super().__init__(game)\n",
    "        super().print_game"
   ]
  },
  {
   "cell_type": "code",
   "execution_count": null,
   "id": "24b16e92-92ae-483a-9cbd-9a11b294b23e",
   "metadata": {},
   "outputs": [],
   "source": [
    "\"\"\" Question 11. Create a Python class called Shape with a method area() that calculates the area of a shape. \n",
    "Then, create child classes Circle and Rectangle that inherit from Shape and implement the area() method accordingly. \n",
    "Provide an example.\"\"\"\n",
    "\n",
    "class Shape:\n",
    "    def area(self):\n",
    "        pass\n",
    "        \n",
    "class Circle(Shape):\n",
    "    def __init__(self, radius):\n",
    "        self.radius = radius \n",
    "    def area(self):\n",
    "        return 3.14 * self.radius * self.radius\n",
    "        \n",
    "        \n",
    "class Rectangle(Shape):\n",
    "    def __init__(self, length, breadth):\n",
    "        self.length = length\n",
    "        self.breadth = breadth\n",
    "    def area_rectangle(self):\n",
    "        return self.length * self.breadth"
   ]
  },
  {
   "cell_type": "code",
   "execution_count": null,
   "id": "58d0c0e5-1850-42ed-8038-37cd03d1fb51",
   "metadata": {},
   "outputs": [],
   "source": [
    "obj1 = Circle(12)\n",
    "obj1.area()"
   ]
  },
  {
   "cell_type": "code",
   "execution_count": null,
   "id": "09558f70-8813-4196-89d1-640ea60d5282",
   "metadata": {},
   "outputs": [],
   "source": [
    "\"\"\" Question 12. Explain the use of abstract base classes (ABCs) in Python and how they relate to inheritance. \n",
    "    Provide an example using the abc module.\"\"\"\n",
    "\"\"\" Answer 12. Abstract Base Classes are used to define abstract method in base class that must be implemented by \n",
    "    the subclass in the python. \"\"\"\n",
    "\n",
    "from abc import ABC, abstractmethod\n",
    "\n",
    "class Shape:\n",
    "    @abstractmethod\n",
    "    def area(self):\n",
    "        pass\n",
    "        \n",
    "class Circle(Shape):\n",
    "    def __init__(self, radius):\n",
    "        self.radius = radius \n",
    "    def area(self):\n",
    "        return 3.14 * self.radius * self.radius\n",
    "        \n",
    "        \n",
    "class Rectangle(Shape):\n",
    "    def __init__(self, length, breadth):\n",
    "        self.length = length\n",
    "        self.breadth = breadth\n",
    "    def area_rectangle(self):\n",
    "        return self.length * self.breadth \n",
    "    "
   ]
  },
  {
   "cell_type": "code",
   "execution_count": null,
   "id": "38503430-2a51-454a-a3a0-f71e10688f35",
   "metadata": {},
   "outputs": [],
   "source": [
    "\"\"\" Question 13. How can you prevent a child class from modifying certain attributes or methods inherited from a parent class in Python? \"\"\"\n",
    "\"\"\" Answer 13. By using @abstractmethod above the parent class method \"\"\""
   ]
  },
  {
   "cell_type": "code",
   "execution_count": null,
   "id": "9c4ba295-9917-46c3-82f9-588617368873",
   "metadata": {},
   "outputs": [],
   "source": [
    "\"\"\" Question 14. Create a Python class called Employee with attributes name and salary. \n",
    "    Then, create a child class Manager that inherits from Employee and adds an attribute department. Provide an example.\"\"\"\n",
    "\n",
    "class Employee:\n",
    "    def __init__(self, name, salary):\n",
    "        self.name = name\n",
    "        self.salary = salary\n",
    "\n",
    "class Manager(Employee):\n",
    "    def __init__(self, name, salary, department):\n",
    "        super().__init(name, salary)"
   ]
  },
  {
   "cell_type": "code",
   "execution_count": null,
   "id": "eb92eea6-f0c6-4d23-92fc-00dcef10be97",
   "metadata": {},
   "outputs": [],
   "source": [
    "\"\"\" Question 15. Discuss the concept of method overloading in Python inheritance. How does it differ from method overriding? \"\"\"\n",
    "\"\"\" Answer 15. When the same method having different number of attributes in it is called method overloading and methods name are same but the functionality is different then it is known as method overriding\"\"\""
   ]
  },
  {
   "cell_type": "code",
   "execution_count": null,
   "id": "e2873f42-6781-472f-b7ec-3464debc5bf5",
   "metadata": {},
   "outputs": [],
   "source": [
    "\"\"\"Question 16. Explain the purpose of the __init__() method in Python inheritance and how it is utilized in child classes.\"\"\"\n",
    "\"\"\"Answer 16. It is a Constructor in python class and also known as Dunder function. It is automatically called when the new object of the class is created \"\"\""
   ]
  },
  {
   "cell_type": "code",
   "execution_count": null,
   "id": "78fd0ed8-0a75-4299-a366-f112ba1e1058",
   "metadata": {},
   "outputs": [],
   "source": [
    "\"\"\" Question 17. Create a Python class called `Bird` with a method `fly()`. Then, create child classes `Eagle` and `Sparrow`\n",
    "    that inherit from `Bird` and implement the `fly()` method differently. Provide an example of using these classes.\"\"\"\n",
    "\n",
    "class Bird:\n",
    "    def fly(self):\n",
    "        pass\n",
    "\n",
    "class Eagle(Bird):\n",
    "    def fly(self):\n",
    "        return \"Eagle fly thousands feet above the ground\"\n",
    "\n",
    "class Sparrow(Bird):\n",
    "    def fly(self):\n",
    "        return \"Sparrow don't fly high\"\n",
    "obj = Eagle()\n",
    "obj.fly()\n"
   ]
  },
  {
   "cell_type": "code",
   "execution_count": null,
   "id": "da776989-5efe-4942-8759-4f6f9bd7ec00",
   "metadata": {},
   "outputs": [],
   "source": [
    "\"\"\" Question 18. What is the \"diamond problem\" in multiple inheritance, and how does Python address it? \"\"\"\n",
    "class A:\n",
    "    def func1(self):\n",
    "        pass\n",
    "class B(A):\n",
    "    def func2(self):\n",
    "        pass\n",
    "class C(A):\n",
    "    def func2(self):\n",
    "        pass\n",
    "class D(B, C):\n",
    "    def func3(self):\n",
    "        pass"
   ]
  },
  {
   "cell_type": "code",
   "execution_count": null,
   "id": "df6d8210-e55c-4ff5-b918-6517e5542d5c",
   "metadata": {},
   "outputs": [],
   "source": [
    "\"\"\"Question 19. Discuss the concept of \"is-a\" and \"has-a\" relationships in inheritance, and provide examples of each.\"\"\"\n",
    "\"\"\" Answer 19. Is-A-Relation is also known as Inheritance while Has-A-Relation is known as Compostion. \"\"\"\n",
    "# Is-A-Relaltion\n",
    "class A:\n",
    "    def func1(self):\n",
    "        pass\n",
    "class B(A):\n",
    "    def func2(self):\n",
    "        pass\n",
    "\n",
    "# Has-A-Relation\n",
    "class A:\n",
    "    def func(self):\n",
    "        pass\n",
    "class B:\n",
    "    def func1(self):\n",
    "        obj = A()\n",
    "        pass"
   ]
  },
  {
   "cell_type": "code",
   "execution_count": null,
   "id": "532e1fc0-b34d-45d0-84f7-60eaa99de737",
   "metadata": {},
   "outputs": [],
   "source": [
    "\"\"\"Question 20. Create a Python class hierarchy for a university system. Start with a base class `Person` and create child\n",
    "classes `Student` and `Professor`, each with their own attributes and methods. Provide an example of using\n",
    "these classes in a university context.\"\"\"\n",
    "\n",
    "class Person:\n",
    "    def func(self):\n",
    "        pass\n",
    "class Professor(Person):\n",
    "    def __init__(self, name, subject):\n",
    "        self.name = name\n",
    "        self.subject = subject\n",
    "    def print_details(self):\n",
    "        print(self.name)\n",
    "class Student(Professor):\n",
    "    def __init__(self, name):\n",
    "        self.name = name\n",
    "        \n",
    "obj1 = Student(\"shashank\")\n",
    "obj1.print_details()"
   ]
  },
  {
   "cell_type": "markdown",
   "id": "cca8b3a2-6f43-4547-bed2-96d6c2f2724f",
   "metadata": {},
   "source": [
    "## Encapsulation"
   ]
  },
  {
   "cell_type": "markdown",
   "id": "e0fbf131-5a3b-4986-8d52-29fdebda4b70",
   "metadata": {},
   "source": [
    "1. Explain the concept of encapsulation in Python. What is its role in object-oriented programming?\n",
    "\n",
    "\n",
    "2. Describe the key principles of encapsulation, including access control and data hiding.\n",
    "\n",
    "\n",
    "3. How can you achieve encapsulation in Python classes? Provide an example.\n",
    "\n",
    "\n",
    "4. Discuss the difference between public, private, and protected access modifiers in Python.\n",
    "\n",
    "\n",
    "5. Create a Python class called `Person` with a private attribute `__name`. Provide methods to get and set the\n",
    "name attribute.\n",
    "\n",
    "\n",
    "6. Explain the purpose of getter and setter methods in encapsulation. Provide examples.\n",
    "\n",
    "\n",
    "7. What is name mangling in Python, and how does it affect encapsulation?\n",
    "\n",
    "\n",
    "8. Create a Python class called `BankAccount` with private attributes for the account balance (`__balance`)\n",
    "and account number (`__account_number`). Provide methods for depositing and withdrawing money.\n",
    "\n",
    "\n",
    "9. Discuss the advantages of encapsulation in terms of code maintainability and security.\n",
    "\n",
    "\n",
    "10. How can you access private attributes in Python? Provide an example demonstrating the use of name\n",
    "mangling.\n",
    "\n",
    "\n",
    "11. Create a Python class hierarchy for a school system, including classes for students, teachers, and courses,\n",
    "and implement encapsulation principles to protect sensitive information.\n",
    "\n",
    "\n",
    "12. Explain the concept of property decorators in Python and how they relate to encapsulation.\n",
    "\n",
    "\n",
    "13. What is data hiding, and why is it important in encapsulation? Provide examples.\n",
    "\n",
    "\n",
    "14. Create a Python class called `Employee` with private attributes for salary (`__salary`) and employee ID\n",
    "(`__employee_id`). Provide a method to calculate yearly bonuses.\n",
    "\n",
    "\n",
    "15. Discuss the use of accessors and mutators in encapsulation. How do they help maintain control over\n",
    "attribute access?\n",
    "\n",
    "\n",
    "16. What are the potential drawbacks or disadvantages of using encapsulation in Python?\n",
    "\n",
    "\n",
    "17. Create a Python class for a library system that encapsulates book information, including titles, authors,\n",
    "and availability status.\n",
    "\n",
    "\n",
    "18. Explain how encapsulation enhances code reusability and modularity in Python programs.\n",
    "\n",
    "\n",
    "19. Describe the concept of information hiding in encapsulation. Why is it essential in software development?\n",
    "\n",
    "\n",
    "20. Create a Python class called `Customer` with private attributes for customer details like name, address,\n",
    "and contact information. Implement encapsulation to ensure data integrity and security."
   ]
  },
  {
   "cell_type": "code",
   "execution_count": null,
   "id": "fac139da-bebd-407e-8a42-8b13d93472f9",
   "metadata": {},
   "outputs": [],
   "source": [
    "\"\"\"1 Encapsulation describes the idea of wrapping data and the methods that work on data within one unit. thus puts restriciton on accessing variables \n",
    "methods directly and can prevent the accidental modification of data\"\"\""
   ]
  },
  {
   "cell_type": "code",
   "execution_count": null,
   "id": "a742eafa-6769-4735-a848-24350c87045c",
   "metadata": {},
   "outputs": [],
   "source": [
    "#Question 2\n",
    "\"\"\" Access control modifiers (such as public, private, protected) dictate the level of visibility and accessibility of members:\n",
    "1. Public: Members marked as public are accessible from anywhere in the program. They form the interface to interact with the object.\n",
    "2. Private: Private members are accessible only within the class they are declared in. They cannot be accessed directly from outside the class.\n",
    "3. Protected: Protected members are accessible within the class and its subclasses (derived classes). They are not directly accessible from outside, \n",
    "but can be accessed by subclasses.\"\"\"\n",
    "\n",
    "class Test:\n",
    "    def __init__(self, name):\n",
    "        self.name = name\n",
    "        self._salary = 20000 # protected\n",
    "        self.__PIN = 123 # private\n",
    "        \n",
    "obj1 = Test(\"shashank\")\n",
    "print(obj1._salary)\n",
    "print(obj1._Test__PIN)"
   ]
  },
  {
   "cell_type": "code",
   "execution_count": null,
   "id": "b355d36d-d130-4e3a-ae31-5d76aa86511c",
   "metadata": {},
   "outputs": [],
   "source": [
    "#3 We can achieve encapsulation in python using access modifiers.\n",
    "class Test:\n",
    "    def __init__(self, name):\n",
    "        self.name = name\n",
    "        self._salary = 20000 # protected\n",
    "        self.__PIN = 123 # private\n",
    "        \n",
    "obj1 = Test(\"shashank\")\n",
    "print(obj1._salary) #syntax for protected\n",
    "print(obj1._Test__PIN) #sybtax for private"
   ]
  },
  {
   "cell_type": "markdown",
   "id": "e070243d-2563-43af-a000-d7361ed6f701",
   "metadata": {},
   "source": [
    "Question 4\n",
    "\n",
    "\"\"\" Access control modifiers (such as public, private, protected) dictate the level of visibility and accessibility of members:\n",
    "1. Public: Members marked as public are accessible from anywhere in the program. They form the interface to interact with the object.\n",
    "2. Private: Private members are accessible only within the class they are declared in. They cannot be accessed directly from outside the class.\n",
    "3. Protected: Protected members are accessible within the class and its subclasses (derived classes). They are not directly accessible from outside, \n",
    "but can be accessed by subclasses.\"\"\"\n"
   ]
  },
  {
   "cell_type": "code",
   "execution_count": null,
   "id": "f178e64a-3cbe-4da7-b822-0e047f7b1c60",
   "metadata": {},
   "outputs": [],
   "source": [
    "# Question 5\n",
    "class Person:\n",
    "    def __init__(self):\n",
    "        self.__name = \"shashank\"\n",
    "obj = Person()\n",
    "obj._Person__name"
   ]
  },
  {
   "cell_type": "code",
   "execution_count": null,
   "id": "a7449cbe-55e9-4ba8-81a6-c3eef020c9ce",
   "metadata": {},
   "outputs": [],
   "source": [
    "# Question 6\n",
    "\"\"\" Answer 6. Getter method return the value of the variable and setter method set the value of the variable in the class.\"\"\""
   ]
  },
  {
   "cell_type": "code",
   "execution_count": null,
   "id": "e676e073-cebc-4c32-bb1d-6718fb1806d8",
   "metadata": {},
   "outputs": [],
   "source": [
    "\"\"\" Question 7. What is name mangling in Python, and how does it affect encapsulation? \"\"\"\n",
    "\"\"\" Answer 7. Name mangling is used to restrict any one access the private class attribute or method from outside of the class\"\"\"\n",
    "\n",
    "class Car:\n",
    "    def __init__(self):\n",
    "        self.foo = 'Test One'\n",
    "        self._bar = 'Test Two' # protected\n",
    "        self.__baz = 'Test Three' # private \n",
    "\n",
    "car = Car()"
   ]
  },
  {
   "cell_type": "code",
   "execution_count": null,
   "id": "ce9b0541-3c22-4c94-b6a5-7878676ce9a8",
   "metadata": {},
   "outputs": [],
   "source": [
    "\"\"\" Question 8. Create a Python class called `BankAccount` with private attributes for the account balance (`__balance`)\n",
    "and account number (`__account_number`). Provide methods for depositing and withdrawing money. \"\"\"\n",
    "\n",
    "class BankAccount:\n",
    "    def __init__(self, account_number):\n",
    "        self.__balance = 0\n",
    "        self.__account_number = account_number\n",
    "    def deposit(self, amount):\n",
    "        return amount + self.__balance\n",
    "    def withdraw(self, amount):\n",
    "        return amount + self.__balance"
   ]
  },
  {
   "cell_type": "code",
   "execution_count": null,
   "id": "062d50c7-9cc6-4011-b3bd-c15352c585a1",
   "metadata": {},
   "outputs": [],
   "source": [
    "obj1 = BankAccount(1234)\n",
    "obj1.deposit(1000)"
   ]
  },
  {
   "cell_type": "code",
   "execution_count": null,
   "id": "4c231827-d678-4b67-9d7c-44a0ba344e40",
   "metadata": {},
   "outputs": [],
   "source": [
    "\"\"\" Question 9. Discuss the advantages of encapsulation in terms of code maintainability and security.\"\"\"\n",
    "\"\"\" Answer 9. Encapsulation is a way to restrict the direct access to some components of an object, so users cannot access state values for all of the variables of a particular object. \n",
    "              Encapsulation can be used to hide both data members and data functions or methods associated with an instantiated class or object.\"\"\""
   ]
  },
  {
   "cell_type": "code",
   "execution_count": null,
   "id": "19abfbad-cdde-4f45-b109-db906d2a61c1",
   "metadata": {},
   "outputs": [],
   "source": [
    "\"\"\" Question 10. How can you access private attributes in Python? Provide an example demonstrating the use of name mangling.\"\"\"\n",
    "\"\"\" Answer 10. We can access the private attributes useing double underscore \"__\" for example: self.__balance \"\"\""
   ]
  },
  {
   "cell_type": "code",
   "execution_count": null,
   "id": "a4d96053-e947-42f1-8fc9-9f074e4e5ad8",
   "metadata": {},
   "outputs": [],
   "source": [
    "\"\"\" Question 11. Create a Python class hierarchy for a school system, including classes for students, teachers, and courses,\n",
    "    and implement encapsulation principles to protect sensitive information.\"\"\"\n",
    "\n",
    "class Teacher:\n",
    "    def __init__(self, name, subject):\n",
    "        self.name = name \n",
    "        self.subject = subject\n",
    "        self.__salary = 35000\n",
    "    def print_details(self):\n",
    "        return self.name, self.subject\n",
    "\n",
    "class Students(Teacher):\n",
    "    def __init__(self, name):\n",
    "        self.name = name \n",
    "        self.subject = subject\n",
    "        self.__marks = 50\n",
    "\n",
    "class Courses(Students):\n",
    "    def __init__(self, name, subject, mentor):\n",
    "        self.name = name \n",
    "        self.subject = subject\n",
    "        self.mentor = mentor\n",
    "        self.__TAX = 1000\n",
    "        "
   ]
  },
  {
   "cell_type": "code",
   "execution_count": null,
   "id": "c8a6c42b-34ba-405e-b694-aeb7f4243579",
   "metadata": {},
   "outputs": [],
   "source": [
    "obj1 = Courses(\"DSA\", \"shashank\", \"priya\")\n",
    "obj1.print_details()"
   ]
  },
  {
   "cell_type": "code",
   "execution_count": null,
   "id": "3ade2705-25b1-4ab0-9ce7-1f204d09c894",
   "metadata": {},
   "outputs": [],
   "source": [
    "\"\"\" Question 12. Explain the concept of property decorators in Python and how they relate to encapsulation.\"\"\"\n",
    "\"\"\" Answer 12. @property decorator is a built-in decorator in Python which is helpful in defining the properties effortlessly without manually calling the inbuilt function property().\"\"\""
   ]
  },
  {
   "cell_type": "code",
   "execution_count": null,
   "id": "82edc8cc-c216-4c84-a23f-a1a1a9c77648",
   "metadata": {},
   "outputs": [],
   "source": [
    "\"\"\" Question 13. What is data hiding, and why is it important in encapsulation? Provide examples.\"\"\"\n",
    "\"\"\" Answer 13. Hiding of un-necessary data from the user, using name mangling or access modifier like private, public, protected \"\"\""
   ]
  },
  {
   "cell_type": "code",
   "execution_count": null,
   "id": "54bd8f9f-f43d-481b-939f-f9382fc1283a",
   "metadata": {},
   "outputs": [],
   "source": [
    "\"\"\" Question 14. Create a Python class called `Employee` with private attributes for salary (`__salary`) and employee ID\n",
    "(`__employee_id`). Provide a method to calculate yearly bonuses.\"\"\"\n",
    "\n",
    "class Employee:\n",
    "    def __init__(self):\n",
    "        self.__salary = 50000\n",
    "        self.__employee_id = 1234\n",
    "    def bonuses(self):\n",
    "        return self.__salary + 0.1*self.__salary"
   ]
  },
  {
   "cell_type": "code",
   "execution_count": null,
   "id": "9a1c478b-fe87-4e1b-ac91-964002a4e9e7",
   "metadata": {},
   "outputs": [],
   "source": [
    "employee = Employee()\n",
    "employee.bonuses()"
   ]
  },
  {
   "cell_type": "code",
   "execution_count": null,
   "id": "e0658701-d815-4b70-bfff-795297f16ddf",
   "metadata": {},
   "outputs": [],
   "source": [
    "\"\"\" Question 15. Discuss the use of accessors and mutators in encapsulation. How do they help maintain control over attribute access?\"\"\"\n",
    "\"\"\" Accessor Method: This method is used to access the state of the object i.e, the data hidden in the object can be accessed from this method. \n",
    "                    However, this method cannot change the state of the object, it can only access the data hidden. \n",
    "                    We can name these methods with the word get. \n",
    " \n",
    "Mutator Method: This method is used to mutate/modify the state of an object i.e, it alters the hidden value of the data variable. \n",
    "                It can set the value of a variable instantly to a new value. \n",
    "                This method is also called as update method. Moreover, we can name these methods with the word set.\"\"\"\n",
    "\n",
    "class Employee:\n",
    "    def __init__(self, salary):\n",
    "        self.__salary = salary\n",
    "        self.__employee_id = 1234\n",
    "    def bonuses(self):\n",
    "        return self.__salary + 0.1*self.__salary\n",
    "    def get_salary(self):\n",
    "        return self.__salary \n",
    "    def set_salary(self, salary):\n",
    "        self.__salary = salary"
   ]
  },
  {
   "cell_type": "code",
   "execution_count": null,
   "id": "ebaeaaa9-a31c-4a6d-bae9-b10af49c27b2",
   "metadata": {},
   "outputs": [],
   "source": [
    "obj1 = Employee(10000)\n",
    "obj1.get_salary() # Accessor method\n",
    "obj1.set_salary(11000)"
   ]
  },
  {
   "cell_type": "code",
   "execution_count": null,
   "id": "565aea7f-218b-4482-96ff-b438d205ecf2",
   "metadata": {},
   "outputs": [],
   "source": [
    "\"\"\" Question 16. What are the potential drawbacks or disadvantages of using encapsulation in Python? \"\"\"\n",
    "\"\"\" Answer 16. Number of lines in codes increases as the protectivity increases. Complexity of the code increases as concept of access and setter \n",
    "               are there in the concept of encapsulation.\"\"\""
   ]
  },
  {
   "cell_type": "code",
   "execution_count": null,
   "id": "263b5a55-f489-4467-b2c2-9e88e2174327",
   "metadata": {},
   "outputs": [],
   "source": [
    "\"\"\" Question 17. Create a Python class for a library system that encapsulates book information, including titles, authors, and availability status.\"\"\"\n",
    "class Library:\n",
    "    def __init__(self):\n",
    "        self.__titles = \"HOOKED\"\n",
    "        self.__authors = \"Nir Eyal\"\n",
    "        self.__availability = \"Available\"\n",
    "    def get_info(self):\n",
    "        return self.__titles, self.__authors, self.__availability"
   ]
  },
  {
   "cell_type": "code",
   "execution_count": null,
   "id": "f7003acd-14c2-494a-aa5a-a7f8bf3e1492",
   "metadata": {},
   "outputs": [],
   "source": [
    "obj1 = Library()\n",
    "obj1.get_info()"
   ]
  },
  {
   "cell_type": "code",
   "execution_count": null,
   "id": "507cc6ee-2a1a-491d-af84-1453a7fd1bf0",
   "metadata": {},
   "outputs": [],
   "source": [
    "\"\"\" Question 18. Explain how encapsulation enhances code reusability and modularity in Python programs.\"\"\"\n",
    "\"\"\" Answer 18. Encapsulation increases code reuseability by improving privacy and having access modifier features and also by encapsulating the class by binding into a single class\"\"\""
   ]
  },
  {
   "cell_type": "code",
   "execution_count": null,
   "id": "ae1c6dae-58d9-4500-a6d2-26408a0f94f4",
   "metadata": {},
   "outputs": [],
   "source": [
    "\"\"\" Question 19. Describe the concept of information hiding in encapsulation. Why is it essential in software development? \"\"\"\n",
    "\"\"\" Answer 19. Hiding of un-relevant data of a software from a user is known as encapsulation. It is essential because if it is not done then it will comprise the privacy and also anyone\n",
    "               can manipulate the code according to his/her need. \"\"\""
   ]
  },
  {
   "cell_type": "code",
   "execution_count": null,
   "id": "4edcdc53-addc-4c6a-b28f-598f6fe0f7b8",
   "metadata": {},
   "outputs": [],
   "source": [
    "\"\"\" Question 20. Create a Python class called Customer with private attributes for customer details like name, address, and contact information. \n",
    "                Implement encapsulation to ensure data integrity and security.\"\"\"\n",
    "class Customer:\n",
    "    def __init__(self):\n",
    "        self.__name = \"shashank\"\n",
    "        self.__address = \"Delhi\"\n",
    "        self.__contact = 7982346969\n",
    "    def get_info(self):\n",
    "        return self.__name, self.__address, self.__contact"
   ]
  },
  {
   "cell_type": "code",
   "execution_count": null,
   "id": "33a0c8f8-b546-4a9d-ae76-49f748e0b1e8",
   "metadata": {},
   "outputs": [],
   "source": [
    "obj1 = Customer()\n",
    "obj1.get_info()"
   ]
  },
  {
   "cell_type": "markdown",
   "id": "e35e24a7-c4fc-4dd8-845f-ad57a5892d5f",
   "metadata": {},
   "source": [
    "# Polymorphism:\n",
    "1. What is polymorphism in Python? Explain how it is related to object-oriented programming.\n",
    "\n",
    "\n",
    "2. Describe the difference between compile-time polymorphism and runtime polymorphism in Python.\n",
    "\n",
    "\n",
    "3. Create a Python class hierarchy for shapes (e.g., circle, square, triangle) and demonstrate polymorphism\n",
    "through a common method, such as `calculate_area()`.\n",
    "\n",
    "\n",
    "4. Explain the concept of method overriding in polymorphism. Provide an example.\n",
    "\n",
    "\n",
    "5. How is polymorphism different from method overloading in Python? Provide examples for both.\n",
    "\n",
    "\n",
    "6. Create a Python class called `Animal` with a method `speak()`. Then, create child classes like `Dog`, `Cat`,\n",
    "and `Bird`, each with their own `speak()` method. Demonstrate polymorphism by calling the `speak()` method\n",
    "on objects of different subclasses.\n",
    "\n",
    "\n",
    "7. Discuss the use of abstract methods and classes in achieving polymorphism in Python. Provide an example\n",
    "using the `abc` module.\n",
    "\n",
    "\n",
    "8. Create a Python class hierarchy for a vehicle system (e.g., car, bicycle, boat) and implement a\n",
    "polymorphic `start()` method that prints a message specific to each vehicle type.\n",
    "\n",
    "\n",
    "9. Explain the significance of the `isinstance()` and `issubclass()` functions in Python polymorphism.\n",
    "\n",
    "\n",
    "10. What is the role of the `@abstractmethod` decorator in achieving polymorphism in Python? Provide an\n",
    "example.\n",
    "\n",
    "\n",
    "11. Create a Python class called `Shape` with a polymorphic method `area()` that calculates the area of\n",
    "different shapes (e.g., circle, rectangle, triangle).\n",
    "\n",
    "\n",
    "12. Discuss the benefits of polymorphism in terms of code reusability and flexibility in Python programs.\n",
    "\n",
    "\n",
    "13. Explain the use of the `super()` function in Python polymorphism. How does it help call methods of parent\n",
    "classes?\n",
    "\n",
    "\n",
    "14. Create a Python class hierarchy for a banking system with various account types (e.g., savings, checking,\n",
    "credit card) and demonstrate polymorphism by implementing a common `withdraw()` method.\n",
    "\n",
    "\n",
    "15. Describe the concept of operator overloading in Python and how it relates to polymorphism. Provide\n",
    "examples using operators like `+` and `*`.\n",
    "\n",
    "\n",
    "16. What is dynamic polymorphism, and how is it achieved in Python?\n",
    "\n",
    "\n",
    "17. Create a Python class hierarchy for employees in a company (e.g., manager, developer, designer) and\n",
    "implement polymorphism through a common `calculate_salary()` method.\n",
    "\n",
    "\n",
    "18. Discuss the concept of function pointers and how they can be used to achieve polymorphism in Python.\n",
    "\n",
    "\n",
    "19. Explain the role of interfaces and abstract classes in polymorphism, drawing comparisons between them.\n",
    "\n",
    "\n",
    "20. Create a Python class for a zoo simulation, demonstrating polymorphism with different animal types (e.g.,\n",
    "mammals, birds, reptiles) and their behavior (e.g., eating, sleeping, making sounds)."
   ]
  },
  {
   "cell_type": "code",
   "execution_count": null,
   "id": "4a49d5bf-867e-4500-b758-c991ff83f9e7",
   "metadata": {},
   "outputs": [],
   "source": [
    "\"\"\" Question 1. What is polymorphism in Python? Explain how it is related to object-oriented programming.\"\"\"\n",
    "\"\"\" Answer 1. Poly means many morphism means forms. In python programming polymorphism means function having same name but having different attributes \n",
    "              or properties\"\"\""
   ]
  },
  {
   "cell_type": "code",
   "execution_count": null,
   "id": "7f4d1bb4-5302-4526-81a5-1ad063e723dc",
   "metadata": {},
   "outputs": [],
   "source": [
    "\"\"\" Question 2. Describe the difference between compile-time polymorphism and runtime polymorphism in Python.\"\"\"\n",
    "\"\"\" Answer 2. Compile time polymorphism is also known as method overloading and runtime polymorphism is known as method overriding.\n",
    "              In compile time polymorphism it has same method with same attributes and property, but in run-time same method have same name attributes\n",
    "              but different classes\"\"\""
   ]
  },
  {
   "cell_type": "code",
   "execution_count": null,
   "id": "f2dc2893-68e9-4f5b-b81d-394f90081f80",
   "metadata": {},
   "outputs": [],
   "source": [
    "\"\"\" Question 3. Create a Python class hierarchy for shapes (e.g., circle, square, triangle) and \n",
    "    demonstrate polymorphism through a common method, such as calculate_area().\"\"\"\n",
    "import math\n",
    "\n",
    "class Shape:\n",
    "    def calculate_area(self):\n",
    "        pass\n",
    "\n",
    "class Circle(Shape):\n",
    "    def __init__(self, radius):\n",
    "        self.radius = radius\n",
    "    \n",
    "    def calculate_area(self):\n",
    "        return math.pi * self.radius ** 2\n",
    "\n",
    "class Square(Shape):\n",
    "    def __init__(self, side):\n",
    "        self.side = side\n",
    "    \n",
    "    def calculate_area(self):\n",
    "        return self.side ** 2\n",
    "\n",
    "class Triangle(Shape):\n",
    "    def __init__(self, base, height):\n",
    "        self.base = base\n",
    "        self.height = height\n",
    "    \n",
    "    def calculate_area(self):\n",
    "        return 0.5 * self.base * self.height\n"
   ]
  },
  {
   "cell_type": "code",
   "execution_count": null,
   "id": "ba7653ce-c8e8-4459-ae1a-cd22fe57b83c",
   "metadata": {},
   "outputs": [],
   "source": [
    "\"\"\" Question 4. Explain the concept of method overriding in polymorphism. Provide an example.\"\"\"\n",
    "\"\"\" Answer 4.  Method overriding is an ability of any object-oriented programming language that allows a subclass or child class to provide a specific implementation of a \n",
    "               method that is already provided by one of its super-classes or parent classes. When a method in a subclass has the same name, \n",
    "               same parameters or signature and same return type(or sub-type) as a method in its super-class, \n",
    "               then the method in the subclass is said to override the method in the super-class.\"\"\"\n",
    "class A:\n",
    "    def print_details(self):\n",
    "        pass\n",
    "class B(A):\n",
    "    def print_details(self):\n",
    "        pass"
   ]
  },
  {
   "cell_type": "code",
   "execution_count": null,
   "id": "41c7f3de-6cd6-4732-a15f-ec09ff815016",
   "metadata": {},
   "outputs": [],
   "source": [
    "\"\"\" Question 5. How is polymorphism different from method overloading in Python? Provide examples for both.\"\"\"\n",
    "\"\"\" Answer 5. Polymorphism refers to the ability of different objects to be treated as instances of the same class while exhibiting different behaviors \n",
    "              based on their own specific implementations. In Python, polymorphism is often achieved through method overriding. Method overloading, \n",
    "              on the other hand, involves defining multiple methods with the same name within the same class, \n",
    "              differing either in the number of parameters or the types of parameters. \n",
    "              Python doesn't support method overloading directly since it does not distinguish methods based on the number or type of parameters.\"\"\""
   ]
  },
  {
   "cell_type": "code",
   "execution_count": null,
   "id": "b12c90fc-6e05-48fb-9cb3-868835b58e1a",
   "metadata": {},
   "outputs": [],
   "source": [
    "\"\"\" Question 6. Create a Python class called Animal with a method speak(). \n",
    "                Then, create child classes like Dog, Cat, and Bird, each with their own speak() method. \n",
    "                Demonstrate polymorphism by calling the speak() method on objects of different subclasses.\"\"\"\n",
    "class Speak:\n",
    "    def speak(self):\n",
    "        pass\n",
    "class Dog(Speak):\n",
    "    def speak(self):\n",
    "        return \"Dog Bark\"\n",
    "class Cat(Speak):\n",
    "    def speak(self):\n",
    "        return \"Cat meow\"\n",
    "class Bird(Speak):\n",
    "    def speak(self):\n",
    "        return \"Bird Chirp\""
   ]
  },
  {
   "cell_type": "code",
   "execution_count": null,
   "id": "81003b97-5267-40f1-a3f7-5c5e4c3a6caf",
   "metadata": {},
   "outputs": [],
   "source": [
    "\"\"\" Question 7. Discuss the use of abstract methods and classes in achieving polymorphism in Python. Provide an example using the abc module.\"\"\"\n",
    "\"\"\" Answer 7. An abstract method is a method that has a declaration but does not have an implementation. \n",
    "              While we are designing large functional units we use an abstract class. \n",
    "              When we want to provide a common interface for different implementations of a component, we use an abstract class.\"\"\"\n",
    "from abc import ABC, abstractmethod\n",
    "class Animal:\n",
    "    @abstractmethod\n",
    "    def Speak(self):\n",
    "        pass\n",
    "class Dog(Animal):\n",
    "    def Speak(self):\n",
    "        return \"I bark\""
   ]
  },
  {
   "cell_type": "code",
   "execution_count": null,
   "id": "066850be-e98d-485c-8ed7-7a546af48083",
   "metadata": {},
   "outputs": [],
   "source": [
    "\"\"\" Question 8. Create a Python class hierarchy for a vehicle system (e.g., car, bicycle, boat) and implement a \n",
    "                polymorphic start() method that prints a message specific to each vehicle type.\"\"\"\n",
    "class Vehicle:\n",
    "    def start(self):\n",
    "        pass\n",
    "class Car(Vehicle):\n",
    "    def start(self):\n",
    "        return \"Car got start\"\n",
    "class Bicycle(Vehicle):\n",
    "    def start(self):\n",
    "        return \"Bicycle got start\"\n",
    "class Boat(Vehicle):\n",
    "    def start(self):\n",
    "        return \"Boat got start\""
   ]
  },
  {
   "cell_type": "code",
   "execution_count": null,
   "id": "02aec5e5-6339-4bff-a63e-58962f00a5f4",
   "metadata": {},
   "outputs": [],
   "source": [
    "\"\"\" Question 9. Explain the significance of the isinstance() and issubclass() functions in Python polymorphism.\"\"\"\n",
    "\"\"\" Answer 9. The function isinstance () checks whether the object that is passed in its parameters is the subclass of the classinfo mentioned within the parameters. \n",
    "              On the other hand, the Python issubclass () function only checks whether a class is a subclass of a supposed parent class.\"\"\" "
   ]
  },
  {
   "cell_type": "code",
   "execution_count": null,
   "id": "7db32669-a456-4cff-b622-d4d8aad15e99",
   "metadata": {},
   "outputs": [],
   "source": [
    "\"\"\"Question 10. What is the role of the @abstractmethod decorator in achieving polymorphism in Python? Provide an example.\"\"\"\n",
    "\"\"\" Answer 10. An abstract method have declaration but dont have implementation. While we are designing large functional unit we use abstract method\"\"\"\n",
    "from abc import ABC, abstractmethod\n",
    "class Animal:\n",
    "    @abstractmethod\n",
    "    def Speak(self):\n",
    "        pass\n",
    "class Dog(Animal):\n",
    "    def Speak(self):\n",
    "        return \"Dogs bark\""
   ]
  },
  {
   "cell_type": "code",
   "execution_count": null,
   "id": "2851105c-671c-4863-8b72-4bdfacc0efaa",
   "metadata": {},
   "outputs": [],
   "source": [
    "\"\"\" Question 11. Create a Python class called Shape with a polymorphic method area() that calculates the area of different shapes (e.g., circle, rectangle, triangle).\"\"\"\n",
    "import math\n",
    "\n",
    "class Shape:\n",
    "    def calculate_area(self):\n",
    "        pass\n",
    "\n",
    "class Circle(Shape):\n",
    "    def __init__(self, radius):\n",
    "        self.radius = radius\n",
    "    \n",
    "    def calculate_area(self):\n",
    "        return math.pi * self.radius ** 2\n",
    "\n",
    "class Square(Shape):\n",
    "    def __init__(self, side):\n",
    "        self.side = side\n",
    "    \n",
    "    def calculate_area(self):\n",
    "        return self.side ** 2\n",
    "\n",
    "class Triangle(Shape):\n",
    "    def __init__(self, base, height):\n",
    "        self.base = base\n",
    "        self.height = height\n",
    "    \n",
    "    def calculate_area(self):\n",
    "        return 0.5 * self.base * self.height"
   ]
  },
  {
   "cell_type": "code",
   "execution_count": null,
   "id": "d2f5cf25-09a5-4ea2-9440-bbea1a01d712",
   "metadata": {},
   "outputs": [],
   "source": [
    "\"\"\" Question 12. Discuss the benefits of polymorphism in terms of code reusability and flexibility in Python programs.\"\"\"\n",
    "\"\"\" Answer 12. Polymorphism is a key object-oriented programming (OOP) notion that enables developers to design flexible and reusable code. \n",
    "               This fascinating feature of OOP allows objects of various classes to be considered instances of a common superclass. \n",
    "               Polymorphism allows us to do several operations using a single interface, \n",
    "               making it a valuable tool for improving code modularity, flexibility, and maintainability.\"\"\""
   ]
  },
  {
   "cell_type": "code",
   "execution_count": null,
   "id": "f179ce61-88dd-4363-a20a-1c8cf0990f30",
   "metadata": {},
   "outputs": [],
   "source": [
    "\"\"\"Question 13. Explain the use of the `super()` function in Python polymorphism. How does it help call methods of parent\n",
    "                classes?\"\"\"\n",
    "\"\"\" Answer 13. Super is used when we need to build classes that extend the functionality of previously built classes.\"\"\""
   ]
  },
  {
   "cell_type": "code",
   "execution_count": null,
   "id": "8f9f11be-462d-47cc-a74b-6c55904d9fa0",
   "metadata": {},
   "outputs": [],
   "source": [
    "\"\"\" Question 14. Create a Python class hierarchy for a banking system with various account types (e.g., savings, checking, credit card) and \n",
    "                 demonstrate polymorphism by implementing a common withdraw() method.\"\"\"\n",
    "class Account:\n",
    "    def __init__(self, account_number, balance=0):\n",
    "        self.account_number = account_number\n",
    "        self.balance = balance\n",
    "\n",
    "    def deposit(self, amount):\n",
    "        self.balance += amount\n",
    "        print(f\"Deposited {amount} into Account {self.account_number}. New balance: {self.balance}\")\n",
    "\n",
    "    def withdraw(self, amount):\n",
    "        if self.balance >= amount:\n",
    "            self.balance -= amount\n",
    "            print(f\"Withdrew {amount} from Account {self.account_number}. New balance: {self.balance}\")\n",
    "        else:\n",
    "            print(f\"Insufficient funds in Account {self.account_number}. Current balance: {self.balance}\")\n",
    "\n",
    "class SavingsAccount(Account):\n",
    "    def __init__(self, account_number, balance=0, interest_rate=0.02):\n",
    "        super().__init__(account_number, balance)\n",
    "        self.interest_rate = interest_rate\n",
    "\n",
    "    def calculate_interest(self):\n",
    "        interest = self.balance * self.interest_rate\n",
    "        self.deposit(interest)\n",
    "        print(f\"Interest of {interest} added to Account {self.account_number}\")\n",
    "\n",
    "class CheckingAccount(Account):\n",
    "    def __init__(self, account_number, balance=0, overdraft_limit=100):\n",
    "        super().__init__(account_number, balance)\n",
    "        self.overdraft_limit = overdraft_limit\n",
    "\n",
    "    def withdraw(self, amount):\n",
    "        available_balance = self.balance + self.overdraft_limit\n",
    "        if available_balance >= amount:\n",
    "            self.balance -= amount\n",
    "            print(f\"Withdrew {amount} from Checking Account {self.account_number}. New balance: {self.balance}\")\n",
    "        else:\n",
    "            print(f\"Cannot withdraw {amount} from Checking Account {self.account_number}. Insufficient funds.\")\n",
    "\n",
    "class CreditCard(Account):\n",
    "    def __init__(self, account_number, balance=0, credit_limit=1000):\n",
    "        super().__init__(account_number, balance)\n",
    "        self.credit_limit = credit_limit\n",
    "\n",
    "    def withdraw(self, amount):\n",
    "        available_credit = self.credit_limit + self.balance\n",
    "        if available_credit >= amount:\n",
    "            self.balance -= amount\n",
    "            print(f\"Withdrew {amount} from Credit Card {self.account_number}. New balance: {self.balance}\")\n",
    "        else:\n",
    "            print(f\"Cannot withdraw {amount} from Credit Card {self.account_number}. Exceeds credit limit.\")\n",
    "\n",
    "# Demonstration of polymorphism\n",
    "def test_withdrawal(account):\n",
    "    account.withdraw(50)\n",
    "\n",
    "# Creating instances of different account types\n",
    "savings_acc = SavingsAccount('SAV-123', 500)\n",
    "checking_acc = CheckingAccount('CHK-456', 800, overdraft_limit=200)\n",
    "credit_card_acc = CreditCard('CCR-789', 300, credit_limit=1000)\n",
    "\n",
    "\n",
    "test_withdrawal(savings_acc)\n",
    "test_withdrawal(checking_acc)\n",
    "test_withdrawal(credit_card_acc)\n"
   ]
  },
  {
   "cell_type": "code",
   "execution_count": null,
   "id": "8324dd86-7773-4bc1-8f25-45ffb667fbb5",
   "metadata": {},
   "outputs": [],
   "source": [
    "\"\"\" Question 15. Describe the concept of operator overloading in Python and how it relates to polymorphism. Provide examples using operators like + and *.\"\"\"\n",
    "class XYZ:\n",
    "    def __init__(self, x, y):\n",
    "        self.x = x\n",
    "        self.y = y\n",
    "    def __add__(self, other):\n",
    "        return XYZ(self.x + other.x, self.y + other.y)"
   ]
  },
  {
   "cell_type": "code",
   "execution_count": null,
   "id": "42a83668-87d5-49c6-8b4d-2a7516afca7f",
   "metadata": {},
   "outputs": [],
   "source": [
    "a = XYZ(12,13)\n",
    "b = XYZ(12,14)\n",
    "result = a + b\n",
    "print(result.x, result.y)"
   ]
  },
  {
   "cell_type": "code",
   "execution_count": null,
   "id": "4ca31f18-f967-4a14-9d43-2d966c2b5d16",
   "metadata": {},
   "outputs": [],
   "source": [
    "\"\"\" Question 16. What is dynamic polymorphism, and how is it achieved in Python?\"\"\"\n",
    "\"\"\" Answer 16. the process when a call to an overridden process is resolved at the run time.\"\"\""
   ]
  },
  {
   "cell_type": "code",
   "execution_count": null,
   "id": "f38ad012-7cc5-4710-ae40-7974df031476",
   "metadata": {},
   "outputs": [],
   "source": [
    "\"\"\"Question 17. Create a Python class hierarchy for employees in a company (e.g., manager, developer, designer) and implement polymorphism through a common calculate_salary() method.\"\"\"\n",
    "class Company:\n",
    "    def __init__(self,name, basic, bonus):\n",
    "        self.name = name\n",
    "        self.basic = basic \n",
    "        self.bonus = bonus\n",
    "    def calculate_salary(self):\n",
    "        return self.basic + self.bonus\n",
    "\n",
    "class Manager(Company):\n",
    "    def __init__(self, name,basic,bonus):\n",
    "        super().__init__(name, basic, bonus)\n",
    "\n",
    "class Developer(Company):\n",
    "    def __init__(self, name, basic, bonus):\n",
    "        super().__init__(name,basic, bonus)\n",
    "\n",
    "class Designer(Company):\n",
    "    def __init__(self,name):\n",
    "        super().__init__(basic, bonus)\n"
   ]
  },
  {
   "cell_type": "code",
   "execution_count": null,
   "id": "7df60388-941a-4754-a60e-338e06a35b36",
   "metadata": {},
   "outputs": [],
   "source": [
    "manager = Manager(\"shashank\", 12000, 12000)\n",
    "manager.calculate_salary()\n",
    "developer = Developer(\"Garima\", 13000, 14000)\n",
    "developer.calculate_salary()"
   ]
  },
  {
   "cell_type": "code",
   "execution_count": null,
   "id": "e84fe513-ed06-422f-88de-8ee1a711f095",
   "metadata": {},
   "outputs": [],
   "source": [
    "\"\"\"Question 19. Explain the role of interfaces and abstract classes in polymorphism, drawing comparisons between them.\"\"\"\n",
    "\"\"\"Answer 19.Abstract Classes:\n",
    "            Definition: An abstract class is a class that cannot be instantiated on its own; it serves as a blueprint for other classes4\n",
    "            Interfaces:\n",
    "            Definition: An interface is like a contract that defines a set of methods that must be implemented by any class that adheres \n",
    "            to it. In Python, there is no explicit interface keyword, but the concept can be achieved using ABC (Abstract Base Classes) \n",
    "            from the abc module or by convention.\"\"\"\n"
   ]
  },
  {
   "cell_type": "code",
   "execution_count": null,
   "id": "1ece1536-2c2d-432a-8d7a-88505de19eda",
   "metadata": {},
   "outputs": [],
   "source": [
    "\"\"\"Question 20. Create a Python class for a zoo simulation, demonstrating polymorphism with different animal types \n",
    "                (e.g., mammals, birds, reptiles) and their behavior (e.g., eating, sleeping, making sounds).\"\"\"\n",
    "class Animal:\n",
    "    def __init__(self, name):\n",
    "        self.name = name \n",
    "    def eating(self):\n",
    "        pass\n",
    "    def sleeping(self):\n",
    "        pass\n",
    "    def making_sounds(self):\n",
    "        pass\n",
    "class Mammals(Animal):\n",
    "    def __init__(self, name):\n",
    "        super().__init__(name)\n",
    "    def eating(self):\n",
    "        return \"Mammals are eating\"\n",
    "    def sleeping(self):\n",
    "        return \"Mammals are sleeping\"\n",
    "    def making_sounds(self):\n",
    "        return \"Mammals are making sounds\"\n",
    "class Birds(Animal):\n",
    "    def __init__(self, name):\n",
    "        super().__init__(name)\n",
    "    def eating(self):\n",
    "        return \" Birds are eating\"\n",
    "    def sleeping(self):\n",
    "        return \"Birds are sleeping\"\n",
    "    def making_sounds(self):\n",
    "        return \"Birds are making sounds\"\n",
    "class Reptiles(Animal):\n",
    "    def __init__(self, name):\n",
    "        super().__init__(name)\n",
    "    def eating(self):\n",
    "        return \"Reptiles are eating\"\n",
    "    def sleeping(self):\n",
    "        return \"Reptiles are sleeping\"\n",
    "    def making_sounds(self):\n",
    "        return \"Reptiles are making sounds\""
   ]
  },
  {
   "cell_type": "code",
   "execution_count": null,
   "id": "91d61f07-3474-4ec1-b897-cfcafbff6f93",
   "metadata": {},
   "outputs": [],
   "source": [
    "a = Reptiles(\"crocodile\")\n",
    "a.making_sounds()\n",
    "b = Birds(\"sparrow\")\n",
    "b.sleeping()"
   ]
  },
  {
   "cell_type": "markdown",
   "id": "dc91e91b-cca0-4849-95c9-51326936538a",
   "metadata": {},
   "source": [
    "# Abstraction:\n",
    "1. What is abstraction in Python, and how does it relate to object-oriented programming?\n",
    "\n",
    "\n",
    "2. Describe the benefits of abstraction in terms of code organization and complexity reduction.\n",
    "\n",
    "\n",
    "3. Create a Python class called `Shape` with an abstract method `calculate_area()`. Then, create child\n",
    "classes (e.g., `Circle`, `Rectangle`) that implement the `calculate_area()` method. Provide an example of\n",
    "using these classes.\n",
    "\n",
    "\n",
    "4. Explain the concept of abstract classes in Python and how they are defined using the `abc` module. Provide\n",
    "an example.\n",
    "\n",
    "\n",
    "5. How do abstract classes differ from regular classes in Python? Discuss their use cases.\n",
    "\n",
    "\n",
    "6. Create a Python class for a bank account and demonstrate abstraction by hiding the account balance and\n",
    "providing methods to deposit and withdraw funds.\n",
    "\n",
    "\n",
    "7. Discuss the concept of interface classes in Python and their role in achieving abstraction.\n",
    "\n",
    "\n",
    "8. Create a Python class hierarchy for animals and implement abstraction by defining common methods\n",
    "(e.g., `eat()`, `sleep()`) in an abstract base class.\n",
    "\n",
    "\n",
    "9. Explain the significance of encapsulation in achieving abstraction. Provide examples.\n",
    "\n",
    "\n",
    "10. What is the purpose of abstract methods, and how do they enforce abstraction in Python classes?\n",
    "\n",
    "\n",
    "11. Create a Python class for a vehicle system and demonstrate abstraction by defining common methods\n",
    "(e.g., `start()`, `stop()`) in an abstract base class.\n",
    "\n",
    "\n",
    "12. Describe the use of abstract properties in Python and how they can be employed in abstract classes.\n",
    "\n",
    "\n",
    "13. Create a Python class hierarchy for employees in a company (e.g., manager, developer, designer) and\n",
    "implement abstraction by defining a common `get_salary()` method.\n",
    "\n",
    "\n",
    "14. Discuss the differences between abstract classes and concrete classes in Python, including their\n",
    "instantiation.\n",
    "\n",
    "\n",
    "15. Explain the concept of abstract data types (ADTs) and their role in achieving abstraction in Python.\n",
    "\n",
    "\n",
    "16. Create a Python class for a computer system, demonstrating abstraction by defining common methods\n",
    "(e.g., `power_on()`, `shutdown()`) in an abstract base class.\n",
    "\n",
    "\n",
    "17. Discuss the benefits of using abstraction in large-scale software development projects.\n",
    "\n",
    "\n",
    "18. Explain how abstraction enhances code reusability and modularity in Python programs.\n",
    "\n",
    "\n",
    "19. Create a Python class for a library system, implementing abstraction by defining common methods (e.g.,\n",
    "`add_book()`, `borrow_book()`) in an abstract base class.\n",
    "\n",
    "\n",
    "20. Describe the concept of method abstraction in Python and how it relates to polymorphism."
   ]
  },
  {
   "cell_type": "code",
   "execution_count": null,
   "id": "50c2ccd7-ff99-4197-840b-16ce2af47956",
   "metadata": {},
   "outputs": [],
   "source": [
    "\"\"\"Question 1. What is abstraction in Python, and how does it relate to object-oriented programming?\"\"\"\n",
    "\"\"\" Answer 1. Abstraction is known as the process of hiding the implementation details of a system from the user\"\"\""
   ]
  },
  {
   "cell_type": "code",
   "execution_count": null,
   "id": "50478fcd-168f-4e0b-8080-983ed316a1c2",
   "metadata": {},
   "outputs": [],
   "source": [
    "\"\"\"Question 2. Describe the benefits of abstraction in terms of code organization and complexity reduction.\"\"\"\n",
    "\"\"\"Answer 2. It reduces the complexity of the code by making relevant part accessible and usable by leaving the unnecessary code hidden.\"\"\""
   ]
  },
  {
   "cell_type": "code",
   "execution_count": null,
   "id": "101548b9-e81d-4eda-8c10-440bf27d1acf",
   "metadata": {},
   "outputs": [],
   "source": [
    "\"\"\"Question 3. Create a Python class called Shape with an abstract method calculate_area(). \n",
    "               Then, create child classes (e.g., Circle, Rectangle) that implement the calculate_area() method. \n",
    "               Provide an example of using these classes.\"\"\"\n",
    "from abc import ABC, abstractmethod\n",
    "class Shape:\n",
    "    @abstractmethod\n",
    "    def calculate_area(self):\n",
    "        pass\n",
    "class Circle(Shape):\n",
    "    def __init__(self, radius):\n",
    "        self.radius = radius\n",
    "    def calculate_area(self):\n",
    "        return 3.14*self.radius * self.radius \n",
    "class Rectangle(Shape):\n",
    "    def __init__(self, length, breadth):\n",
    "        self.length = length\n",
    "        self.breadth = breadth\n",
    "    def calculate_area(self):\n",
    "        return self.length*self.breadth"
   ]
  },
  {
   "cell_type": "code",
   "execution_count": null,
   "id": "e4f3f42e-f343-43d2-be08-8076b32e5427",
   "metadata": {},
   "outputs": [],
   "source": [
    "a = Circle(5)\n",
    "a.calculate_area()"
   ]
  },
  {
   "cell_type": "code",
   "execution_count": null,
   "id": "1c4600d1-7edf-47ba-9408-e07fe6173f37",
   "metadata": {},
   "outputs": [],
   "source": [
    "\"\"\"Question 4. Explain the concept of abstract classes in Python and how they are defined using the abc module. Provide an example.\"\"\"\n",
    "\"\"\"Answer 4. An abstract base class let us to create a common Application programming interface for multiple subclasses. \n",
    "             Unlike other high-level programming languages, Python does not provide the abstract class itself. \n",
    "             To achieve that, we use the abc module of Python, which provides the base and necessary tools for defining Abstract Base Classes (ABC). \n",
    "             ABCs give the feature of virtual subclasses\"\"\"\n",
    "from abc import ABC, abstractmethod\n",
    "class Shape:\n",
    "    @abstractmethod\n",
    "    def calculate_area(self):\n",
    "        pass\n",
    "class Circle(Shape):\n",
    "    def __init__(self, radius):\n",
    "        self.radius = radius\n",
    "    def calculate_area(self):\n",
    "        return 3.14*self.radius * self.radius \n",
    "class Rectangle(Shape):\n",
    "    def __init__(self, length, breadth):\n",
    "        self.length = length\n",
    "        self.breadth = breadth\n",
    "    def calculate_area(self):\n",
    "        return self.length*self.breadth"
   ]
  },
  {
   "cell_type": "code",
   "execution_count": null,
   "id": "c057252a-9e5e-43a0-b644-1c684c5c0a04",
   "metadata": {},
   "outputs": [],
   "source": [
    "\"\"\"Question 5. How do abstract classes differ from regular classes in Python? Discuss their use cases.\"\"\"\n",
    "\"\"\"Answer 5. Abstract classes are differ from other classes because abstract class hide the implementation of the class but in other class implementation part is visible\"\"\""
   ]
  },
  {
   "cell_type": "code",
   "execution_count": null,
   "id": "7e4244b6-a61f-4391-b404-b02366cc4a17",
   "metadata": {},
   "outputs": [],
   "source": [
    "\"\"\"Question 6. Create a Python class for a bank account and demonstrate abstraction by hiding the account balance and providing methods to deposit and withdraw funds.\"\"\"\n",
    "from abc import ABC, abstractmethod\n",
    "class Bank:\n",
    "    def __init__(self, amount, balance=0):\n",
    "        self.amount = amount\n",
    "        self.balance = balance\n",
    "    @abstractmethod\n",
    "    def account_balance(self):\n",
    "        pass\n",
    "    def deposit(self):\n",
    "        return self.balance + self.amount\n",
    "    def withdraw(self):\n",
    "        return self.balance-self.amount"
   ]
  },
  {
   "cell_type": "code",
   "execution_count": null,
   "id": "5b8f9d83-c27d-457c-9cdd-00824942737b",
   "metadata": {},
   "outputs": [],
   "source": [
    "\"\"\"Question 7. Discuss the concept of interface classes in Python and their role in achieving abstraction.\"\"\"\n",
    "\"\"\" Answer 7. Interfaces concept are not natively supported in python, although abstract classes and abstract method can be used to go ground this.\"\"\""
   ]
  },
  {
   "cell_type": "code",
   "execution_count": null,
   "id": "4efff6ef-4f8a-48f6-80d6-340ff119980b",
   "metadata": {},
   "outputs": [],
   "source": [
    "\"\"\"Question 8. Create a Python class hierarchy for animals and implement abstraction by defining common methods(e.g., `eat()`, `sleep()`) in an abstract base class.\"\"\"\n",
    "from abc import ABC, abstractmethod\n",
    "class Animal:\n",
    "    @abstractmethod\n",
    "    def eat():\n",
    "        pass\n",
    "    def sleep():\n",
    "        pass\n",
    "class Lion(Animal):\n",
    "    def eat(self):\n",
    "        return \"lion is eating\"\n",
    "    def sleep(self):\n",
    "        return \"lion sleeps 20 hrs.\""
   ]
  },
  {
   "cell_type": "code",
   "execution_count": null,
   "id": "22b8dad4-ceac-47e7-a208-377ea7f23c79",
   "metadata": {},
   "outputs": [],
   "source": [
    "\"\"\"Question 9. Explain the significance of encapsulation in achieving abstraction. Provide examples.\"\"\"\n",
    "\"\"\"Answer 9. Encapsulation supports abstraction by hiding the internal workings of a class and providing controlled access to its components, \n",
    "             thereby allowing the creation of simpler, more understandable interfaces for interacting with objects.\"\"\"\n"
   ]
  },
  {
   "cell_type": "code",
   "execution_count": null,
   "id": "6e663f1d-de48-40d0-9dc2-8d3306b5eeda",
   "metadata": {},
   "outputs": [],
   "source": [
    "\"\"\"Question 10. What is the purpose of abstract methods, and how do they enforce abstraction in Python classes?\"\"\"\n",
    "\"\"\"Answer 10. @abstractmethod helps us to indicate that the mentioned class belong to this particular class\"\"\""
   ]
  },
  {
   "cell_type": "code",
   "execution_count": null,
   "id": "377538d8-fe3e-4986-ac2f-143aaf144c42",
   "metadata": {},
   "outputs": [],
   "source": [
    "\"\"\"Question 11. Create a Python class for a vehicle system and demonstrate abstraction by defining common methods(e.g., `start()`, `stop()`) in an abstract base class.\"\"\"\n",
    "from abc import ABC, abstractmethod\n",
    "class Vehicle:\n",
    "    @abstractmethod\n",
    "    def start(self):\n",
    "        pass\n",
    "    @abstractmethod\n",
    "    def stop(self):\n",
    "        pass\n",
    "class Car(Vehicle):\n",
    "    def start(self):\n",
    "        return \"Car is started\"\n",
    "    def stop(self):\n",
    "        return \"Car is stopped\""
   ]
  },
  {
   "cell_type": "code",
   "execution_count": null,
   "id": "c991274f-4a87-412f-8d0d-1eb4517db5ee",
   "metadata": {},
   "outputs": [],
   "source": [
    "\"\"\"Question 12. Describe the use of abstract properties in Python and how they can be employed in abstract classes.\"\"\"\n",
    "\"\"\"Answer 12. Abstract methods force the child classes to give the implementation of these methods in them and thus help us achieve abstraction as each subclass can give its own implementation. \n",
    "              A class containing one or more than one abstract method is called an abstract class.\"\"\""
   ]
  },
  {
   "cell_type": "code",
   "execution_count": null,
   "id": "a548cfb0-1369-4071-a08d-eaedecba9fb0",
   "metadata": {},
   "outputs": [],
   "source": [
    "\"\"\"Question 13. Create a Python class hierarchy for employees in a company (e.g., manager, developer, designer) and implement abstraction by defining a common `get_salary()` method.\"\"\"\n",
    "\n",
    "from abc import ABC, abstractmethod\n",
    "class Company:\n",
    "    def __init__(self,name, basic, bonus):\n",
    "        self.name = name\n",
    "        self.basic = basic \n",
    "        self.bonus = bonus\n",
    "    def calculate_salary(self):\n",
    "        return self.basic + self.bonus\n",
    "    @abstractmethod\n",
    "    def get_salary(self):\n",
    "        pass\n",
    "class Manager(Company):\n",
    "    def __init__(self, name,basic,bonus):\n",
    "        super().__init__(name, basic, bonus)\n",
    "    def get_salary(self):\n",
    "        return self.basic+self.bonus\n",
    "class Developer(Company):\n",
    "    def __init__(self, name, basic, bonus):\n",
    "        super().__init__(name,basic, bonus)\n",
    "    def get_salary(self):\n",
    "        return self.basic+self.bonus\n",
    "class Designer(Company):\n",
    "    def __init__(self,name):\n",
    "        super().__init__(basic, bonus)\n",
    "    def get_salary(self):\n",
    "        return self.basic+self.bonus"
   ]
  },
  {
   "cell_type": "code",
   "execution_count": 8,
   "id": "8e1a32a5-f239-4256-ac45-62664a0ad39a",
   "metadata": {},
   "outputs": [
    {
     "data": {
      "text/plain": [
       "'Answer 14. An abstract class is a class declared with an abstract keyword which is a collection of abstract and non-abstract methods while a concrete class is a class that allows creating an instance or an object using the new keyword. \\n              Thus, this is the main difference between abstract class and concrete class.'"
      ]
     },
     "execution_count": 8,
     "metadata": {},
     "output_type": "execute_result"
    }
   ],
   "source": [
    "\"\"\"Question 14. Discuss the differences between abstract classes and concrete classes in Python, including their instantiation.\"\"\"\n",
    "\"\"\"Answer 14. An abstract class is a class declared with an abstract keyword which is a collection of abstract and non-abstract methods while a concrete class is a class that allows creating an instance or an object using the new keyword. \n",
    "              Thus, this is the main difference between abstract class and concrete class.\"\"\""
   ]
  },
  {
   "cell_type": "code",
   "execution_count": 7,
   "id": "ff693076-6adc-4e48-bdee-15ac373e2409",
   "metadata": {},
   "outputs": [
    {
     "data": {
      "text/plain": [
       "'Answer 15. abstract data types (ADTs) that provide a clear and well-defined interface for manipulating data. \\n              The internal implementation details are hidden from the user, ensuring that data objects can only be accessed through the defined methods.'"
      ]
     },
     "execution_count": 7,
     "metadata": {},
     "output_type": "execute_result"
    }
   ],
   "source": [
    "\"\"\"Question 15. Explain the concept of abstract data types (ADTs) and their role in achieving abstraction in Python.\"\"\"\n",
    "\"\"\"Answer 15. abstract data types (ADTs) that provide a clear and well-defined interface for manipulating data. \n",
    "              The internal implementation details are hidden from the user, ensuring that data objects can only be accessed through the defined methods.\"\"\""
   ]
  },
  {
   "cell_type": "code",
   "execution_count": 2,
   "id": "10910fc2-dcd8-4bd6-9e80-3377b6d92792",
   "metadata": {},
   "outputs": [],
   "source": [
    "\"\"\"Question 16. Create a Python class for a computer system, demonstrating abstraction by defining common methods (e.g., `power_on()`, `shutdown()`) in an abstract base class.\"\"\"\n",
    "from abc import ABC, abstractmethod\n",
    "class Computer_system:\n",
    "    @abstractmethod\n",
    "    def power_on(self):\n",
    "        pass\n",
    "    def shutdown(self):\n",
    "        pass"
   ]
  },
  {
   "cell_type": "code",
   "execution_count": 6,
   "id": "a81a8bf3-f544-4153-b8b1-e3248057c2da",
   "metadata": {},
   "outputs": [
    {
     "data": {
      "text/plain": [
       "'Answer 17. Allows developers to create simpler, more manageable, and more scalable code'"
      ]
     },
     "execution_count": 6,
     "metadata": {},
     "output_type": "execute_result"
    }
   ],
   "source": [
    "\"\"\"Question 17. Discuss the benefits of using abstraction in large-scale software development projects.\"\"\"\n",
    "\"\"\"Answer 17. Allows developers to create simpler, more manageable, and more scalable code\"\"\""
   ]
  },
  {
   "cell_type": "code",
   "execution_count": 1,
   "id": "d1a8651f-7abe-4343-bfb1-be29655dfbf0",
   "metadata": {},
   "outputs": [
    {
     "data": {
      "text/plain": [
       "'Answer 18. Abstraction is the process of taking something complex and breaking it down into simpler, more manageable parts'"
      ]
     },
     "execution_count": 1,
     "metadata": {},
     "output_type": "execute_result"
    }
   ],
   "source": [
    "\"\"\"Question 18. Explain how abstraction enhances code reusability and modularity in Python programs.\"\"\"\n",
    "\"\"\"Answer 18. Abstraction is the process of taking something complex and breaking it down into simpler, more manageable parts\"\"\""
   ]
  },
  {
   "cell_type": "code",
   "execution_count": 5,
   "id": "0a93a202-a3e0-4660-b862-28802d5fdcbb",
   "metadata": {},
   "outputs": [],
   "source": [
    "\"\"\"Question 19. Create a Python class for a library system, implementing abstraction by defining common methods (e.g., `add_book()`, `borrow_book()`) in an abstract base class.\"\"\"\n",
    "from abc import ABC, abstractmethod\n",
    "class Library:\n",
    "    def __init__(self, Title, Author):\n",
    "        self.Title = Title \n",
    "        self.Author = Author\n",
    "    @abstractmethod\n",
    "    def add_book(self):\n",
    "        return f\"Book name{self.Title} is added\"\n",
    "    @abstractmethod\n",
    "    def borrow_book(self):\n",
    "        return f\"Book name{self.Title} is borrowed\""
   ]
  },
  {
   "cell_type": "code",
   "execution_count": 9,
   "id": "8bae3010-926a-44cd-980a-c274a2705dfe",
   "metadata": {},
   "outputs": [
    {
     "data": {
      "text/plain": [
       "'Answer 20. Abstraction is a general guideline giving independence of implementation to the follower classes while Polymorphism is differential approach which override the methods/rules set by parent class'"
      ]
     },
     "execution_count": 9,
     "metadata": {},
     "output_type": "execute_result"
    }
   ],
   "source": [
    "\"\"\"Question 20. Describe the concept of method abstraction in Python and how it relates to polymorphism.\"\"\"\n",
    "\"\"\"Answer 20. Abstraction is a general guideline giving independence of implementation to the follower classes while Polymorphism is differential approach which override the methods/rules set by parent class\"\"\""
   ]
  },
  {
   "cell_type": "markdown",
   "id": "75b0a20f-0b06-4fc9-9efc-8eebf00e922b",
   "metadata": {},
   "source": [
    "# Composition:\n",
    "1. Explain the concept of composition in Python and how it is used to build complex objects from simpler ones.\n",
    "\n",
    "\n",
    "2. Describe the difference between composition and inheritance in object-oriented programming.\n",
    "\n",
    "\n",
    "3. Create a Python class called `Author` with attributes for name and birthdate. Then, create a `Book` class\n",
    "that contains an instance of `Author` as a composition. Provide an example of creating a `Book` object.\n",
    "\n",
    "\n",
    "4. Discuss the benefits of using composition over inheritance in Python, especially in terms of code flexibility\n",
    "and reusability.\n",
    "\n",
    "\n",
    "5. How can you implement composition in Python classes? Provide examples of using composition to create\n",
    "complex objects.\n",
    "\n",
    "\n",
    "6. Create a Python class hierarchy for a music player system, using composition to represent playlists and\n",
    "songs.\n",
    "\n",
    "\n",
    "7. Explain the concept of \"has-a\" relationships in composition and how it helps design software systems.\n",
    "\n",
    "\n",
    "8. Create a Python class for a computer system, using composition to represent components like CPU, RAM,\n",
    "and storage devices.\n",
    "\n",
    "\n",
    "9. Describe the concept of \"delegation\" in composition and how it simplifies the design of complex systems.\n",
    "\n",
    "\n",
    "10. Create a Python class for a car, using composition to represent components like the engine, wheels, and\n",
    "transmission.\n",
    "\n",
    "\n",
    "11. How can you encapsulate and hide the details of composed objects in Python classes to maintain\n",
    "abstraction?\n",
    "\n",
    "\n",
    "12. Create a Python class for a university course, using composition to represent students, instructors, and\n",
    "course materials.\n",
    "\n",
    "\n",
    "13. Discuss the challenges and drawbacks of composition, such as increased complexity and potential for\n",
    "tight coupling between objects.\n",
    "\n",
    "\n",
    "14. Create a Python class hierarchy for a restaurant system, using composition to represent menus, dishes,\n",
    "and ingredients.\n",
    "\n",
    "\n",
    "15. Explain how composition enhances code maintainability and modularity in Python programs.\n",
    "\n",
    "\n",
    "16. Create a Python class for a computer game character, using composition to represent attributes like\n",
    "weapons, armor, and inventory.\n",
    "\n",
    "\n",
    "17. Describe the concept of \"aggregation\" in composition and how it differs from simple composition.\n",
    "\n",
    "\n",
    "18. Create a Python class for a house, using composition to represent rooms, furniture, and appliances.\n",
    "\n",
    "\n",
    "19. How can you achieve flexibility in composed objects by allowing them to be replaced or modified\n",
    "dynamically at runtime?\n",
    "\n",
    "\n",
    "20. Create a Python class for a social media application, using composition to represent users, posts, and\n",
    "comments."
   ]
  },
  {
   "cell_type": "code",
   "execution_count": 2,
   "id": "42a356ed-1550-4746-b4d8-c625d56bd0b3",
   "metadata": {},
   "outputs": [
    {
     "data": {
      "text/plain": [
       "'Answer 1. Composition is a way of aggregating objects together by making some objects attributes of other objects. It is a dynamic binding/run-time binding.'"
      ]
     },
     "execution_count": 2,
     "metadata": {},
     "output_type": "execute_result"
    }
   ],
   "source": [
    "\"\"\"Question 1. Explain the concept of composition in Python and how it is used to build complex objects from simpler ones.\"\"\"\n",
    "\"\"\"Answer 1. Composition is a way of aggregating objects together by making some objects attributes of other objects. It is a dynamic binding/run-time binding.\"\"\""
   ]
  },
  {
   "cell_type": "code",
   "execution_count": 3,
   "id": "5b3e08e7-c739-4d2c-ab0b-5889522dd6cc",
   "metadata": {},
   "outputs": [
    {
     "data": {
      "text/plain": [
       "'Answer 2. Inheritance is a static binding whereas composition is a run-time binding. In Inheritance we can inherit all the methods of the class but in composition we can only import the particular functionality to a particular object of the class'"
      ]
     },
     "execution_count": 3,
     "metadata": {},
     "output_type": "execute_result"
    }
   ],
   "source": [
    "\"\"\"Question 2. Describe the difference between composition and inheritance in object-oriented programming.\"\"\"\n",
    "\"\"\"Answer 2. Inheritance is a static binding whereas composition is a run-time binding. In Inheritance we can inherit all the methods of the class but in composition we can only import the particular functionality to a particular object of the class\"\"\""
   ]
  },
  {
   "cell_type": "code",
   "execution_count": 20,
   "id": "3ba25680-e55c-4a27-9ed8-b1b96b904493",
   "metadata": {},
   "outputs": [
    {
     "name": "stdout",
     "output_type": "stream",
     "text": [
      "Book Title: 1984\n",
      "Author: George Orwell\n",
      "Author's Birthdate: June 25, 1903\n"
     ]
    }
   ],
   "source": [
    "\"\"\"Question 3. Create a Python class called Author with attributes for name and birthdate. Then, create a Book class that contains an instance of Author as a composition. Provide an example of creating a Book object.\"\"\"\n",
    "class Author:\n",
    "    def __init__(self, name, birthdate):\n",
    "        self.name = name\n",
    "        self.birthdate = birthdate\n",
    "\n",
    "class Book:\n",
    "    def __init__(self, title, author):\n",
    "        self.title = title\n",
    "        self.author = author\n",
    "\n",
    "author_instance = Author(\"George Orwell\", \"June 25, 1903\")\n",
    "book_instance = Book(\"1984\", author_instance)\n",
    "print(f\"Book Title: {book_instance.title}\")\n",
    "print(f\"Author: {book_instance.author.name}\")\n",
    "print(f\"Author's Birthdate: {book_instance.author.birthdate}\")\n"
   ]
  },
  {
   "cell_type": "code",
   "execution_count": 21,
   "id": "7019c5b1-9cc4-490c-a34b-d1c66f8f267b",
   "metadata": {},
   "outputs": [
    {
     "data": {
      "text/plain": [
       "'Answer 4. Inheritance is tightly coupled whereas composition is loosely coupled.There is no access control in inheritance whereas access can be restricted in composition. \\n             We expose all the superclass methods to the other classes having access to subclass. So if a new method is introduced or there are security holes in the superclass, subclass becomes vulnerable.'"
      ]
     },
     "execution_count": 21,
     "metadata": {},
     "output_type": "execute_result"
    }
   ],
   "source": [
    "\"\"\"Question 4. Discuss the benefits of using composition over inheritance in Python, especially in terms of code flexibility and reusability.\"\"\"\n",
    "\"\"\"Answer 4. Inheritance is tightly coupled whereas composition is loosely coupled.There is no access control in inheritance whereas access can be restricted in composition. \n",
    "             We expose all the superclass methods to the other classes having access to subclass. So if a new method is introduced or there are security holes in the superclass, subclass becomes vulnerable.\"\"\""
   ]
  },
  {
   "cell_type": "code",
   "execution_count": 22,
   "id": "69caea29-7476-4c8e-a62b-040aeda1e84a",
   "metadata": {},
   "outputs": [
    {
     "name": "stdout",
     "output_type": "stream",
     "text": [
      "Book Title: 1984\n",
      "Author: George Orwell\n",
      "Author's Birthdate: June 25, 1903\n"
     ]
    }
   ],
   "source": [
    "\"\"\"Question 5. How can you implement composition in Python classes? Provide examples of using composition to create complex objects.\"\"\"\n",
    "class Author:\n",
    "    def __init__(self, name, birthdate):\n",
    "        self.name = name\n",
    "        self.birthdate = birthdate\n",
    "\n",
    "class Book:\n",
    "    def __init__(self, title, author):\n",
    "        self.title = title\n",
    "        self.author = author\n",
    "\n",
    "author_instance = Author(\"George Orwell\", \"June 25, 1903\")\n",
    "book_instance = Book(\"1984\", author_instance)\n",
    "print(f\"Book Title: {book_instance.title}\")\n",
    "print(f\"Author: {book_instance.author.name}\")\n",
    "print(f\"Author's Birthdate: {book_instance.author.birthdate}\")"
   ]
  },
  {
   "cell_type": "code",
   "execution_count": 4,
   "id": "87fd46dc-9e17-4615-baf8-899b79d6ede2",
   "metadata": {},
   "outputs": [
    {
     "name": "stdout",
     "output_type": "stream",
     "text": [
      "ABC\n"
     ]
    }
   ],
   "source": [
    "\"\"\"Question 6. Create a Python class hierarchy for a music player system, using composition to represent playlists and songs.\"\"\"\n",
    "class Music:\n",
    "    def __init__(self, song_name, singer):\n",
    "        self.name = song_name \n",
    "        self.singer = singer \n",
    "class Music_player_system:\n",
    "    def __init__(self, playlists, songs):\n",
    "        self.playlists = playlists\n",
    "        self.songs = songs\n",
    "        \n",
    "music_instance = Music(\"ABC\", \"XQZ\")\n",
    "Music_player_instance = Music_player_system(\"Alone\",  music_instance)\n",
    "print(Music_player_instance.songs.name)"
   ]
  },
  {
   "cell_type": "code",
   "execution_count": 5,
   "id": "94181039-7c47-4cc5-9c52-2bc9d465d774",
   "metadata": {},
   "outputs": [
    {
     "data": {
      "text/plain": [
       "'Answer 7. The concept of \"has-a\" relationships in composition is a fundamental aspect of object-oriented programming (OOP), specifically used to model the relationship between different classes. \\n             In this relationship, one class contains an instance of another class as one of its members or attributes. \\n             This is often referred to as a \"has-a\" relationship because the containing class \"has\" an instance of another class.\\n             Composition allows for the creation of complex objects by combining simpler ones. It promotes code reusability, modularity, and maintainability in software design.'"
      ]
     },
     "execution_count": 5,
     "metadata": {},
     "output_type": "execute_result"
    }
   ],
   "source": [
    "\"\"\"Question 7. Explain the concept of \"has-a\" relationships in composition and how it helps design software systems.\"\"\"\n",
    "\"\"\"Answer 7. The concept of \"has-a\" relationships in composition is a fundamental aspect of object-oriented programming (OOP), specifically used to model the relationship between different classes. \n",
    "             In this relationship, one class contains an instance of another class as one of its members or attributes. \n",
    "             This is often referred to as a \"has-a\" relationship because the containing class \"has\" an instance of another class.\n",
    "             Composition allows for the creation of complex objects by combining simpler ones. It promotes code reusability, modularity, and maintainability in software design.\"\"\""
   ]
  },
  {
   "cell_type": "code",
   "execution_count": 15,
   "id": "1265b8e0-a8fc-4eef-989b-32789afa93e0",
   "metadata": {},
   "outputs": [
    {
     "name": "stdout",
     "output_type": "stream",
     "text": [
      "Computer Name: MyComputer\n",
      "Computer Price: $1000\n",
      "CPU Frequency: 3.5 GHz\n",
      "RAM Generation: DDR4\n",
      "Hard Disk Brand: Seagate\n"
     ]
    }
   ],
   "source": [
    "\"\"\"Question 8. Create a Python class for a computer system, using composition to represent components like CPU, RAM, and storage devices.\"\"\"\n",
    "class Cpu:\n",
    "    def __init__(self, frequency, price):\n",
    "        self.frequency = frequency \n",
    "        self.price = price\n",
    "\n",
    "class Ram:\n",
    "    def __init__(self, generation):\n",
    "        self.generation = generation\n",
    "\n",
    "class HardDisk:\n",
    "    def __init__(self, brand):\n",
    "        self.brand = brand\n",
    "\n",
    "class Computer:\n",
    "    def __init__(self, name, price, cpu, ram, hard_disk):\n",
    "        self.name = name \n",
    "        self.price = price \n",
    "        self.cpu = cpu\n",
    "        self.ram = ram\n",
    "        self.hard_disk = hard_disk\n",
    "\n",
    "# Creating instances of CPU, RAM, and Hard Disk\n",
    "cpu_instance = Cpu(\"3.5 GHz\", 300)\n",
    "ram_instance = Ram(\"DDR4\")\n",
    "hard_disk_instance = HardDisk(\"Seagate\")\n",
    "\n",
    "# Creating a Computer instance containing CPU, RAM, and Hard Disk\n",
    "computer_instance = Computer(\"MyComputer\", 1000, cpu_instance, ram_instance, hard_disk_instance)\n",
    "\n",
    "# Accessing computer details\n",
    "print(f\"Computer Name: {computer_instance.name}\")\n",
    "print(f\"Computer Price: ${computer_instance.price}\")\n",
    "print(f\"CPU Frequency: {computer_instance.cpu.frequency}\")\n",
    "print(f\"RAM Generation: {computer_instance.ram.generation}\")\n",
    "print(f\"Hard Disk Brand: {computer_instance.hard_disk.brand}\")\n"
   ]
  },
  {
   "cell_type": "code",
   "execution_count": 1,
   "id": "9631c0c4-796a-4483-85be-1e90af3cf9ae",
   "metadata": {},
   "outputs": [
    {
     "data": {
      "text/plain": [
       "'Answer 9. Object Delegation means using the object of another class as a class member of another class. It is known as object delegation. \\n             Delegation can be an alternative to inheritance, but in an inheritance, there is an i-s a relationship, but in the delegation, \\n             there is no inheritance relationship between the classes.'"
      ]
     },
     "execution_count": 1,
     "metadata": {},
     "output_type": "execute_result"
    }
   ],
   "source": [
    "\"\"\"Question 9. Describe the concept of \"delegation\" in composition and how it simplifies the design of complex systems.\"\"\"\n",
    "\"\"\"Answer 9. Object Delegation means using the object of another class as a class member of another class. It is known as object delegation. \n",
    "             Delegation can be an alternative to inheritance, but in an inheritance, there is an i-s a relationship, but in the delegation, \n",
    "             there is no inheritance relationship between the classes.\"\"\""
   ]
  },
  {
   "cell_type": "code",
   "execution_count": 2,
   "id": "1beac4d3-c374-4404-a2f7-f4234082ec60",
   "metadata": {},
   "outputs": [
    {
     "name": "stdout",
     "output_type": "stream",
     "text": [
      "The car name is BMW\n"
     ]
    }
   ],
   "source": [
    "\"\"\"Question 10. Create a Python class for a car, using composition to represent components like the engine, wheels, and transmission.\"\"\"\n",
    "class Car:\n",
    "    def __init__(self, name, price, power, number, cylinders):\n",
    "        self.name = name\n",
    "        self.price = price\n",
    "        self.power = power\n",
    "        self.number = number\n",
    "        self.cylinders = cylinders\n",
    "class Engine:\n",
    "    def __init__(self, power):\n",
    "        self.power = power\n",
    "class Wheels:\n",
    "    def __init__(self, number):\n",
    "        self.number = number \n",
    "class Transmission:\n",
    "    def __init__(self, cylinders):\n",
    "        self.cylinders = cylinders \n",
    "\n",
    "engine_instance = Engine(\"120Hp\")\n",
    "wheels_instance = Wheels(4)\n",
    "transmission_instance = Transmission(8)\n",
    "\n",
    "car_instance = Car(\"BMW\", 450000, engine_instance, wheels_instance, transmission_instance)\n",
    "print(f\"The car name is {car_instance.name}\")"
   ]
  },
  {
   "cell_type": "code",
   "execution_count": 3,
   "id": "aab729f9-8fb8-46e4-ba55-282e23245863",
   "metadata": {},
   "outputs": [
    {
     "data": {
      "text/plain": [
       "'Answer 11. Encapsulation is a fundamental principle in object-oriented programming that allows hiding the internal state and implementation details of an object from the outside world. \\n              In Python, you can achieve encapsulation in classes through the use of access modifiers, namely, public, private, and protected attributes/methods.'"
      ]
     },
     "execution_count": 3,
     "metadata": {},
     "output_type": "execute_result"
    }
   ],
   "source": [
    "\"\"\"Question 11. How can you encapsulate and hide the details of composed objects in Python classes to maintain abstraction?\"\"\"\n",
    "\"\"\"Answer 11. Encapsulation is a fundamental principle in object-oriented programming that allows hiding the internal state and implementation details of an object from the outside world. \n",
    "              In Python, you can achieve encapsulation in classes through the use of access modifiers, namely, public, private, and protected attributes/methods.\"\"\""
   ]
  },
  {
   "cell_type": "code",
   "execution_count": 11,
   "id": "84f66eff-9ccf-4a4e-8b2d-4ea1affbad2a",
   "metadata": {},
   "outputs": [
    {
     "name": "stdout",
     "output_type": "stream",
     "text": [
      "name of the course is: DSA\n"
     ]
    }
   ],
   "source": [
    "\"\"\"Question 12. Create a Python class for a university course, using composition to represent students, instructors, and course materials.\"\"\"\n",
    "\n",
    "class University:\n",
    "    def __init__(self, course, year,name,instructor, course_material):\n",
    "        self.course = course\n",
    "        self.year = year \n",
    "        self.name = name\n",
    "        self.instructor = instructor\n",
    "        self.course_material = course_material\n",
    "class Student:\n",
    "    def __init__(self,name):\n",
    "        self.name = name \n",
    "class Instructor:\n",
    "    def __init__(self,instructor):\n",
    "        self.instructor = instructor\n",
    "class Course_material:\n",
    "    def __init__(self, course_material):\n",
    "        self.course_material = course_material\n",
    "student_instance = Student(\"shashank\")\n",
    "instructor_instance = Instructor(\"Rahul\")\n",
    "course_instance = Course_material(\"DSA\")\n",
    "university_instance = University(\"Btech\", 2019, student_instance, instructor_instance, course_instance)\n",
    "print(f\"name of the course is: {course_instance.course_material}\")"
   ]
  },
  {
   "cell_type": "code",
   "execution_count": 12,
   "id": "8a8f6ab9-9790-4723-ba8a-076180c83dad",
   "metadata": {},
   "outputs": [
    {
     "data": {
      "text/plain": [
       "'Answer 13. composition is a powerful tool for building flexible and reusable software, it requires careful consideration and design to avoid the pitfalls of increased complexity, tight coupling, \\n              and maintenance difficulties. Balancing the advantages of composition with its challenges is crucial in creating robust and maintainable systems.'"
      ]
     },
     "execution_count": 12,
     "metadata": {},
     "output_type": "execute_result"
    }
   ],
   "source": [
    "\"\"\"Question 13. Discuss the challenges and drawbacks of composition, such as increased complexity and potential for tight coupling between objects.\"\"\"\n",
    "\"\"\"Answer 13. composition is a powerful tool for building flexible and reusable software, it requires careful consideration and design to avoid the pitfalls of increased complexity, tight coupling, \n",
    "              and maintenance difficulties. Balancing the advantages of composition with its challenges is crucial in creating robust and maintainable systems.\"\"\""
   ]
  },
  {
   "cell_type": "code",
   "execution_count": 15,
   "id": "81b0e65f-032b-4003-9887-cfb88125cc1d",
   "metadata": {},
   "outputs": [],
   "source": [
    "\"\"\"Question 14. Create a Python class hierarchy for a restaurant system, using composition to represent menus, dishes, and ingredients.\"\"\"\n",
    "class Restaurant:\n",
    "    def __init__(self, name, menu, dishes, ingredients):\n",
    "        self.name = name \n",
    "        self.menu = menu\n",
    "        self.dishes = dishes\n",
    "        self.ingredients = ingredients \n",
    "class Menu:\n",
    "    def __init__(self, menu_list):\n",
    "        self.menu_list = menu_list \n",
    "class Dishes:\n",
    "    def __init__(self, dishes_list):\n",
    "        self.dishes_list = dishes_list\n",
    "class Ingredients:\n",
    "    def __init__(self, ingredients_list):\n",
    "        self.ingredients_list = ingredients_list\n",
    "menu_instance = Menu(\"Rajma chawal\")\n",
    "dishes_instance = Dishes(\"Lasagne\")\n",
    "ingredients_instance = Ingredients(\"Spices\")\n",
    "restaurant_instance = Restaurant(\"Cafe27\", menu_instance, dishes_instance, ingredients_instance)"
   ]
  },
  {
   "cell_type": "code",
   "execution_count": 16,
   "id": "c29267f1-3e61-4c3d-883a-c428f6ebaf91",
   "metadata": {},
   "outputs": [
    {
     "data": {
      "text/plain": [
       "\"Answer 15. Modularity: Composition allows developers to create smaller, more focused classes or objects that encapsulate specific functionalities. These smaller components can be composed together to build more complex and capable objects. This modular approach facilitates code organization, making it easier to understand, maintain, and extend.\\n\\nCode Reusability: By composing objects, Python developers can reuse existing code components rather than reinventing the wheel. This reusability reduces redundancy in the codebase and promotes a more efficient development process. Objects with well-defined functionalities can be reused across different parts of the application, promoting a more DRY (Don't Repeat Yourself) approach.\\n\\nEncapsulation: Composition encourages encapsulation, which is a core principle of object-oriented programming. Objects hide their internal implementation details and expose only necessary interfaces. This encapsulation ensures that changes made to one component do not affect the entire system, as long as the external interface remains consistent.\\n\\nMaintainability: When using composition, changes or updates to one component generally have minimal impact on other parts of the codebase. This reduces the likelihood of unintended side effects and makes it easier to maintain and evolve the system over time. It also facilitates easier debugging and troubleshooting since components are decoupled and can be tested independently.\\n\\nFlexibility and Extensibility: Composing objects allows for greater flexibility in combining functionalities. It enables developers to mix and match components to create new objects or modify existing ones without modifying their internal implementations. This makes the code more adaptable to changing requirements and promotes extensibility without the need for extensive modifications.\\n\\nDependency Management: Composition helps manage dependencies between objects. Instead of relying on inheritance hierarchies (which can lead to tight coupling), objects can be composed and configured at runtime, allowing for more flexible and loosely coupled relationships between components.\""
      ]
     },
     "execution_count": 16,
     "metadata": {},
     "output_type": "execute_result"
    }
   ],
   "source": [
    "\"\"\"Question 15. Explain how composition enhances code maintainability and modularity in Python programs.\"\"\"\n",
    "\"\"\"Answer 15. Modularity: Composition allows developers to create smaller, more focused classes or objects that encapsulate specific functionalities. These smaller components can be composed together to build more complex and capable objects. This modular approach facilitates code organization, making it easier to understand, maintain, and extend.\n",
    "\n",
    "Code Reusability: By composing objects, Python developers can reuse existing code components rather than reinventing the wheel. This reusability reduces redundancy in the codebase and promotes a more efficient development process. Objects with well-defined functionalities can be reused across different parts of the application, promoting a more DRY (Don't Repeat Yourself) approach.\n",
    "\n",
    "Encapsulation: Composition encourages encapsulation, which is a core principle of object-oriented programming. Objects hide their internal implementation details and expose only necessary interfaces. This encapsulation ensures that changes made to one component do not affect the entire system, as long as the external interface remains consistent.\n",
    "\n",
    "Maintainability: When using composition, changes or updates to one component generally have minimal impact on other parts of the codebase. This reduces the likelihood of unintended side effects and makes it easier to maintain and evolve the system over time. It also facilitates easier debugging and troubleshooting since components are decoupled and can be tested independently.\n",
    "\n",
    "Flexibility and Extensibility: Composing objects allows for greater flexibility in combining functionalities. It enables developers to mix and match components to create new objects or modify existing ones without modifying their internal implementations. This makes the code more adaptable to changing requirements and promotes extensibility without the need for extensive modifications.\n",
    "\n",
    "Dependency Management: Composition helps manage dependencies between objects. Instead of relying on inheritance hierarchies (which can lead to tight coupling), objects can be composed and configured at runtime, allowing for more flexible and loosely coupled relationships between components.\"\"\""
   ]
  },
  {
   "cell_type": "code",
   "execution_count": 2,
   "id": "7a55308e-62f1-456d-9ccb-4c2804790f3e",
   "metadata": {},
   "outputs": [],
   "source": [
    "\"\"\"Question 16. Create a Python class for a computer game character, using composition to represent attributes like weapons, armor, and inventory.\"\"\"\n",
    "class Game:\n",
    "    def __init__(self, name, weapons, armor, inventory):\n",
    "        self.name = name \n",
    "        self.weapons = weapons\n",
    "        self.armor = armor \n",
    "        self.inventory = inventory\n",
    "class Weapons:\n",
    "    def __init__(self, name):\n",
    "        self.name = name\n",
    "class Armor:\n",
    "    def __init__(self, level):\n",
    "        self.level = level\n",
    "class Inventory:\n",
    "    def __init__(self, capacity):\n",
    "        self.capacity = capacity\n"
   ]
  },
  {
   "cell_type": "code",
   "execution_count": 3,
   "id": "bdf379ef-fd54-4b22-a6bc-22694b4c9d69",
   "metadata": {},
   "outputs": [
    {
     "data": {
      "text/plain": [
       "\"Answer 17. aggregation in composition allows for a more flexible and loosely coupled relationship between objects, where parts can be shared among multiple objects and exist independently, \\n              while simple composition creates a more tightly coupled relationship where parts are integral to the whole object and can't exist separately.\""
      ]
     },
     "execution_count": 3,
     "metadata": {},
     "output_type": "execute_result"
    }
   ],
   "source": [
    "\"\"\"Question 17. Describe the concept of \"aggregation\" in composition and how it differs from simple composition.\"\"\"\n",
    "\"\"\"Answer 17. aggregation in composition allows for a more flexible and loosely coupled relationship between objects, where parts can be shared among multiple objects and exist independently, \n",
    "              while simple composition creates a more tightly coupled relationship where parts are integral to the whole object and can't exist separately.\"\"\""
   ]
  },
  {
   "cell_type": "code",
   "execution_count": 4,
   "id": "44a74e2e-8dda-4214-bc53-d349de14b62d",
   "metadata": {},
   "outputs": [
    {
     "name": "stdout",
     "output_type": "stream",
     "text": [
      "House Details:\n",
      "Living Room (Area: 250 sq. ft.) - Furniture: Sofa, TV\n",
      "Kitchen (Area: 150 sq. ft.) - Furniture: Dining Table, Oven\n",
      "\n"
     ]
    }
   ],
   "source": [
    "\"\"\"Question 18. Create a Python class for a house, using composition to represent rooms, furniture, and appliances.\"\"\"\n",
    "class Room:\n",
    "    def __init__(self, name, area):\n",
    "        self.name = name\n",
    "        self.area = area\n",
    "        self.furniture = []\n",
    "\n",
    "    def add_furniture(self, furniture):\n",
    "        self.furniture.append(furniture)\n",
    "\n",
    "    def __str__(self):\n",
    "        furniture_list = ', '.join([f.name for f in self.furniture])\n",
    "        return f\"{self.name} (Area: {self.area} sq. ft.) - Furniture: {furniture_list}\"\n",
    "\n",
    "class Furniture:\n",
    "    def __init__(self, name, size):\n",
    "        self.name = name\n",
    "        self.size = size\n",
    "\n",
    "    def __str__(self):\n",
    "        return f\"{self.name} ({self.size} sq. ft.)\"\n",
    "\n",
    "class Appliance:\n",
    "    def __init__(self, name, power_usage):\n",
    "        self.name = name\n",
    "        self.power_usage = power_usage\n",
    "\n",
    "    def __str__(self):\n",
    "        return f\"{self.name} (Power Usage: {self.power_usage} watts)\"\n",
    "\n",
    "class House:\n",
    "    def __init__(self):\n",
    "        self.rooms = []\n",
    "\n",
    "    def add_room(self, room):\n",
    "        self.rooms.append(room)\n",
    "\n",
    "    def __str__(self):\n",
    "        house_info = \"House Details:\\n\"\n",
    "        for room in self.rooms:\n",
    "            house_info += str(room) + \"\\n\"\n",
    "        return house_info\n",
    "\n",
    "# Creating instances of Room, Furniture, and Appliance\n",
    "living_room = Room(\"Living Room\", 250)\n",
    "sofa = Furniture(\"Sofa\", 40)\n",
    "tv = Appliance(\"TV\", 100)\n",
    "\n",
    "kitchen = Room(\"Kitchen\", 150)\n",
    "table = Furniture(\"Dining Table\", 30)\n",
    "oven = Appliance(\"Oven\", 1500)\n",
    "\n",
    "# Adding furniture and appliances to rooms\n",
    "living_room.add_furniture(sofa)\n",
    "living_room.add_furniture(tv)\n",
    "\n",
    "kitchen.add_furniture(table)\n",
    "kitchen.add_furniture(oven)\n",
    "\n",
    "# Creating a house and adding rooms to it\n",
    "my_house = House()\n",
    "my_house.add_room(living_room)\n",
    "my_house.add_room(kitchen)\n",
    "\n",
    "# Displaying house details\n",
    "print(my_house)\n"
   ]
  },
  {
   "cell_type": "code",
   "execution_count": 5,
   "id": "05ff294e-425e-4507-8125-c99070cae758",
   "metadata": {},
   "outputs": [
    {
     "data": {
      "text/plain": [
       "'Answer 19. In above Example the FurnitureInterface serves as the interface for different furniture types. Concrete furniture classes (Chair and Table) implement this interface. \\n              The Room class uses dependency injection to accept a list of furniture objects, enabling dynamic replacement of furniture objects in the room at runtime.\\n              By utilizing such design patterns and principles, you can ensure flexibility in composed objects, allowing for dynamic replacements or modifications at runtime.'"
      ]
     },
     "execution_count": 5,
     "metadata": {},
     "output_type": "execute_result"
    }
   ],
   "source": [
    "\"\"\"Question 19. How can you achieve flexibility in composed objects by allowing them to be replaced or modified dynamically at runtime?\"\"\"\n",
    "\"\"\"Answer 19. In above Example the FurnitureInterface serves as the interface for different furniture types. Concrete furniture classes (Chair and Table) implement this interface. \n",
    "              The Room class uses dependency injection to accept a list of furniture objects, enabling dynamic replacement of furniture objects in the room at runtime.\n",
    "              By utilizing such design patterns and principles, you can ensure flexibility in composed objects, allowing for dynamic replacements or modifications at runtime.\"\"\"\n"
   ]
  },
  {
   "cell_type": "code",
   "execution_count": 6,
   "id": "278a7649-037d-4bc8-b2dd-69018ff43faf",
   "metadata": {},
   "outputs": [
    {
     "name": "stdout",
     "output_type": "stream",
     "text": [
      "Post by Alice:\n",
      "Hello, this is my first post!\n",
      "Comments:\n",
      "Comment by Bob: Nice post, Alice!\n"
     ]
    }
   ],
   "source": [
    "\"\"\"Question 20. Create a Python class for a social media application, using composition to represent users, posts, and comments.\"\"\"\n",
    "class Comment:\n",
    "    def __init__(self, user, text):\n",
    "        self.user = user\n",
    "        self.text = text\n",
    "\n",
    "    def __str__(self):\n",
    "        return f\"Comment by {self.user}: {self.text}\"\n",
    "\n",
    "class Post:\n",
    "    def __init__(self, user, content):\n",
    "        self.user = user\n",
    "        self.content = content\n",
    "        self.comments = []\n",
    "\n",
    "    def add_comment(self, comment):\n",
    "        self.comments.append(comment)\n",
    "\n",
    "    def __str__(self):\n",
    "        comments_str = \"\\n\".join([str(comment) for comment in self.comments])\n",
    "        return f\"Post by {self.user}:\\n{self.content}\\nComments:\\n{comments_str}\"\n",
    "\n",
    "class User:\n",
    "    def __init__(self, username):\n",
    "        self.username = username\n",
    "        self.posts = []\n",
    "\n",
    "    def create_post(self, content):\n",
    "        post = Post(self.username, content)\n",
    "        self.posts.append(post)\n",
    "        return post\n",
    "\n",
    "    def comment_on_post(self, post, text):\n",
    "        comment = Comment(self.username, text)\n",
    "        post.add_comment(comment)\n",
    "\n",
    "    def __str__(self):\n",
    "        return f\"User: {self.username}\"\n",
    "\n",
    "class SocialMediaApp:\n",
    "    def __init__(self):\n",
    "        self.users = []\n",
    "\n",
    "    def create_user(self, username):\n",
    "        user = User(username)\n",
    "        self.users.append(user)\n",
    "        return user\n",
    "\n",
    "# Creating an instance of the social media app\n",
    "app = SocialMediaApp()\n",
    "\n",
    "# Creating users\n",
    "alice = app.create_user(\"Alice\")\n",
    "bob = app.create_user(\"Bob\")\n",
    "\n",
    "# Alice creates a post\n",
    "alice_post = alice.create_post(\"Hello, this is my first post!\")\n",
    "\n",
    "# Bob comments on Alice's post\n",
    "bob.comment_on_post(alice_post, \"Nice post, Alice!\")\n",
    "\n",
    "# Displaying the post and comments\n",
    "print(alice_post)\n"
   ]
  },
  {
   "cell_type": "code",
   "execution_count": null,
   "id": "7b52ff6f-a8fb-4396-a7da-823abed5871b",
   "metadata": {},
   "outputs": [],
   "source": []
  }
 ],
 "metadata": {
  "kernelspec": {
   "display_name": "Python 3 (ipykernel)",
   "language": "python",
   "name": "python3"
  },
  "language_info": {
   "codemirror_mode": {
    "name": "ipython",
    "version": 3
   },
   "file_extension": ".py",
   "mimetype": "text/x-python",
   "name": "python",
   "nbconvert_exporter": "python",
   "pygments_lexer": "ipython3",
   "version": "3.10.8"
  }
 },
 "nbformat": 4,
 "nbformat_minor": 5
}
